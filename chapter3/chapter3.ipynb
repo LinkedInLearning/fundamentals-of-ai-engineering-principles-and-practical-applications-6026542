{
 "cells": [
  {
   "cell_type": "markdown",
   "metadata": {},
   "source": [
    "## Benefits of preserving text structure:\n",
    "\n",
    "- Better chunking that respects semantic boundaries\n",
    "- More accurate search and retrieval\n",
    "- Improved question answering by maintaining context\n",
    "- The ability to handle structured data like tables\n"
   ]
  },
  {
   "cell_type": "code",
   "execution_count": null,
   "metadata": {},
   "outputs": [],
   "source": [
    "from llama_index.core import Document\n",
    "from llama_index.core.node_parser import MarkdownNodeParser\n",
    "import textwrap\n",
    "\n",
    "# Sample markdown document with clear structure\n",
    "markdown_text = \"\"\"\n",
    "# AI Engineering Fundamentals\n",
    "\n",
    "## Introduction to Vector Databases\n",
    "\n",
    "Vector databases are specialized database systems designed to store and query vector embeddings efficiently.\n",
    "\n",
    "### Key Advantages\n",
    "- Efficient similarity search\n",
    "- Scalable to billions of vectors\n",
    "- Support for metadata filtering\n",
    "\n",
    "### Common Operations\n",
    "1. **Vector Indexing**: Creating data structures for efficient search\n",
    "2. **Approximate Nearest Neighbor Search**: Finding similar vectors quickly\n",
    "3. **Hybrid Search**: Combining vector similarity with metadata filters\n",
    "\n",
    "## Working with Embeddings\n",
    "\n",
    "Embeddings are dense numerical representations of data that capture semantic meaning.\n",
    "\n",
    "### Popular Embedding Models\n",
    "- OpenAI text-embedding-ada-002\n",
    "- Sentence Transformers\n",
    "- CLIP for image embeddings\n",
    "\"\"\"\n",
    "\n",
    "# Create a document\n",
    "document = Document(text=markdown_text)\n",
    "\n",
    "# Create a parser that recognizes markdown structure\n",
    "markdown_parser = MarkdownNodeParser()\n",
    "\n",
    "# Parse the document\n",
    "nodes = markdown_parser.get_nodes_from_documents([document])\n",
    "\n",
    "# Display the resulting nodes\n",
    "print(f\"Total nodes created: {len(nodes)}\")\n",
    "for i, node in enumerate(nodes):\n",
    "    print(f\"\\nNode {i+1}:\")\n",
    "    print(f\"Text: {textwrap.shorten(node.text, width=60)}...\")\n",
    "    print(f\"Metadata: {node.metadata}\")"
   ]
  }
 ],
 "metadata": {
  "language_info": {
   "name": "python"
  }
 },
 "nbformat": 4,
 "nbformat_minor": 2
}
