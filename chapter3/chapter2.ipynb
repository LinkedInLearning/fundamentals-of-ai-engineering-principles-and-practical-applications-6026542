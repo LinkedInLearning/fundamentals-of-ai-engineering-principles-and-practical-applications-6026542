{
 "cells": [
  {
   "cell_type": "markdown",
   "metadata": {},
   "source": [
    "## All about text extraction!"
   ]
  },
  {
   "cell_type": "code",
   "execution_count": 11,
   "metadata": {},
   "outputs": [
    {
     "name": "stdout",
     "output_type": "stream",
     "text": [
      "Defaulting to user installation because normal site-packages is not writeable\n",
      "Requirement already satisfied: llama-index-readers-file in /home/vscode/.local/lib/python3.12/site-packages (0.4.7)\n",
      "Requirement already satisfied: llama-index-readers-web in /home/vscode/.local/lib/python3.12/site-packages (0.3.8)\n",
      "Requirement already satisfied: llama-index-core in /home/vscode/.local/lib/python3.12/site-packages (0.12.27)\n",
      "Requirement already satisfied: llama-index-readers-json in /home/vscode/.local/lib/python3.12/site-packages (0.3.0)\n",
      "Requirement already satisfied: llama-index-readers-database in /home/vscode/.local/lib/python3.12/site-packages (0.3.0)\n",
      "Requirement already satisfied: docx2txt in /home/vscode/.local/lib/python3.12/site-packages (0.9)\n",
      "Requirement already satisfied: beautifulsoup4<5.0.0,>=4.12.3 in /home/vscode/.local/lib/python3.12/site-packages (from llama-index-readers-file) (4.13.3)\n",
      "Requirement already satisfied: pandas in /home/vscode/.local/lib/python3.12/site-packages (from llama-index-readers-file) (2.2.3)\n",
      "Requirement already satisfied: pypdf<6.0.0,>=5.1.0 in /home/vscode/.local/lib/python3.12/site-packages (from llama-index-readers-file) (5.4.0)\n",
      "Requirement already satisfied: striprtf<0.0.27,>=0.0.26 in /home/vscode/.local/lib/python3.12/site-packages (from llama-index-readers-file) (0.0.26)\n",
      "Requirement already satisfied: aiohttp<4.0.0,>=3.9.1 in /home/vscode/.local/lib/python3.12/site-packages (from llama-index-readers-web) (3.11.14)\n",
      "Requirement already satisfied: chromedriver-autoinstaller<0.7.0,>=0.6.3 in /home/vscode/.local/lib/python3.12/site-packages (from llama-index-readers-web) (0.6.4)\n",
      "Requirement already satisfied: html2text<2025.0.0,>=2024.2.26 in /home/vscode/.local/lib/python3.12/site-packages (from llama-index-readers-web) (2024.2.26)\n",
      "Requirement already satisfied: newspaper3k<0.3.0,>=0.2.8 in /home/vscode/.local/lib/python3.12/site-packages (from llama-index-readers-web) (0.2.8)\n",
      "Requirement already satisfied: playwright<2.0,>=1.30 in /home/vscode/.local/lib/python3.12/site-packages (from llama-index-readers-web) (1.51.0)\n",
      "Requirement already satisfied: requests<3.0.0,>=2.31.0 in /home/vscode/.local/lib/python3.12/site-packages (from llama-index-readers-web) (2.32.3)\n",
      "Requirement already satisfied: selenium<5.0.0,>=4.17.2 in /home/vscode/.local/lib/python3.12/site-packages (from llama-index-readers-web) (4.30.0)\n",
      "Requirement already satisfied: spider-client<0.0.28,>=0.0.27 in /home/vscode/.local/lib/python3.12/site-packages (from llama-index-readers-web) (0.0.27)\n",
      "Requirement already satisfied: urllib3>=1.1.0 in /home/vscode/.local/lib/python3.12/site-packages (from llama-index-readers-web) (2.3.0)\n",
      "Requirement already satisfied: PyYAML>=6.0.1 in /home/vscode/.local/lib/python3.12/site-packages (from llama-index-core) (6.0.2)\n",
      "Requirement already satisfied: SQLAlchemy>=1.4.49 in /home/vscode/.local/lib/python3.12/site-packages (from SQLAlchemy[asyncio]>=1.4.49->llama-index-core) (2.0.40)\n",
      "Requirement already satisfied: banks<3.0.0,>=2.0.0 in /home/vscode/.local/lib/python3.12/site-packages (from llama-index-core) (2.1.0)\n",
      "Requirement already satisfied: dataclasses-json in /home/vscode/.local/lib/python3.12/site-packages (from llama-index-core) (0.6.7)\n",
      "Requirement already satisfied: deprecated>=1.2.9.3 in /home/vscode/.local/lib/python3.12/site-packages (from llama-index-core) (1.2.18)\n",
      "Requirement already satisfied: dirtyjson<2.0.0,>=1.0.8 in /home/vscode/.local/lib/python3.12/site-packages (from llama-index-core) (1.0.8)\n",
      "Requirement already satisfied: filetype<2.0.0,>=1.2.0 in /home/vscode/.local/lib/python3.12/site-packages (from llama-index-core) (1.2.0)\n",
      "Requirement already satisfied: fsspec>=2023.5.0 in /home/vscode/.local/lib/python3.12/site-packages (from llama-index-core) (2025.3.0)\n",
      "Requirement already satisfied: httpx in /home/vscode/.local/lib/python3.12/site-packages (from llama-index-core) (0.28.1)\n",
      "Requirement already satisfied: nest-asyncio<2.0.0,>=1.5.8 in /home/vscode/.local/lib/python3.12/site-packages (from llama-index-core) (1.6.0)\n",
      "Requirement already satisfied: networkx>=3.0 in /home/vscode/.local/lib/python3.12/site-packages (from llama-index-core) (3.4.2)\n",
      "Requirement already satisfied: nltk>3.8.1 in /home/vscode/.local/lib/python3.12/site-packages (from llama-index-core) (3.9.1)\n",
      "Requirement already satisfied: numpy in /home/vscode/.local/lib/python3.12/site-packages (from llama-index-core) (2.2.4)\n",
      "Requirement already satisfied: pillow>=9.0.0 in /home/vscode/.local/lib/python3.12/site-packages (from llama-index-core) (11.1.0)\n",
      "Requirement already satisfied: pydantic>=2.8.0 in /home/vscode/.local/lib/python3.12/site-packages (from llama-index-core) (2.11.1)\n",
      "Requirement already satisfied: tenacity!=8.4.0,<10.0.0,>=8.2.0 in /home/vscode/.local/lib/python3.12/site-packages (from llama-index-core) (9.0.0)\n",
      "Requirement already satisfied: tiktoken>=0.3.3 in /home/vscode/.local/lib/python3.12/site-packages (from llama-index-core) (0.9.0)\n",
      "Requirement already satisfied: tqdm<5.0.0,>=4.66.1 in /home/vscode/.local/lib/python3.12/site-packages (from llama-index-core) (4.67.1)\n",
      "Requirement already satisfied: typing-extensions>=4.5.0 in /home/vscode/.local/lib/python3.12/site-packages (from llama-index-core) (4.13.0)\n",
      "Requirement already satisfied: typing-inspect>=0.8.0 in /home/vscode/.local/lib/python3.12/site-packages (from llama-index-core) (0.9.0)\n",
      "Requirement already satisfied: wrapt in /home/vscode/.local/lib/python3.12/site-packages (from llama-index-core) (1.17.2)\n",
      "Requirement already satisfied: aiohappyeyeballs>=2.3.0 in /home/vscode/.local/lib/python3.12/site-packages (from aiohttp<4.0.0,>=3.9.1->llama-index-readers-web) (2.6.1)\n",
      "Requirement already satisfied: aiosignal>=1.1.2 in /home/vscode/.local/lib/python3.12/site-packages (from aiohttp<4.0.0,>=3.9.1->llama-index-readers-web) (1.3.2)\n",
      "Requirement already satisfied: attrs>=17.3.0 in /home/vscode/.local/lib/python3.12/site-packages (from aiohttp<4.0.0,>=3.9.1->llama-index-readers-web) (25.3.0)\n",
      "Requirement already satisfied: frozenlist>=1.1.1 in /home/vscode/.local/lib/python3.12/site-packages (from aiohttp<4.0.0,>=3.9.1->llama-index-readers-web) (1.5.0)\n",
      "Requirement already satisfied: multidict<7.0,>=4.5 in /home/vscode/.local/lib/python3.12/site-packages (from aiohttp<4.0.0,>=3.9.1->llama-index-readers-web) (6.2.0)\n",
      "Requirement already satisfied: propcache>=0.2.0 in /home/vscode/.local/lib/python3.12/site-packages (from aiohttp<4.0.0,>=3.9.1->llama-index-readers-web) (0.3.1)\n",
      "Requirement already satisfied: yarl<2.0,>=1.17.0 in /home/vscode/.local/lib/python3.12/site-packages (from aiohttp<4.0.0,>=3.9.1->llama-index-readers-web) (1.18.3)\n",
      "Requirement already satisfied: griffe in /home/vscode/.local/lib/python3.12/site-packages (from banks<3.0.0,>=2.0.0->llama-index-core) (1.7.1)\n",
      "Requirement already satisfied: jinja2 in /home/vscode/.local/lib/python3.12/site-packages (from banks<3.0.0,>=2.0.0->llama-index-core) (3.1.6)\n",
      "Requirement already satisfied: soupsieve>1.2 in /home/vscode/.local/lib/python3.12/site-packages (from beautifulsoup4<5.0.0,>=4.12.3->llama-index-readers-file) (2.6)\n",
      "Requirement already satisfied: packaging>=23.1 in /home/vscode/.local/lib/python3.12/site-packages (from chromedriver-autoinstaller<0.7.0,>=0.6.3->llama-index-readers-web) (24.2)\n",
      "Requirement already satisfied: cssselect>=0.9.2 in /home/vscode/.local/lib/python3.12/site-packages (from newspaper3k<0.3.0,>=0.2.8->llama-index-readers-web) (1.3.0)\n",
      "Requirement already satisfied: lxml>=3.6.0 in /home/vscode/.local/lib/python3.12/site-packages (from newspaper3k<0.3.0,>=0.2.8->llama-index-readers-web) (5.3.1)\n",
      "Requirement already satisfied: feedparser>=5.2.1 in /home/vscode/.local/lib/python3.12/site-packages (from newspaper3k<0.3.0,>=0.2.8->llama-index-readers-web) (6.0.11)\n",
      "Requirement already satisfied: tldextract>=2.0.1 in /home/vscode/.local/lib/python3.12/site-packages (from newspaper3k<0.3.0,>=0.2.8->llama-index-readers-web) (5.1.3)\n",
      "Requirement already satisfied: feedfinder2>=0.0.4 in /home/vscode/.local/lib/python3.12/site-packages (from newspaper3k<0.3.0,>=0.2.8->llama-index-readers-web) (0.0.4)\n",
      "Requirement already satisfied: jieba3k>=0.35.1 in /home/vscode/.local/lib/python3.12/site-packages (from newspaper3k<0.3.0,>=0.2.8->llama-index-readers-web) (0.35.1)\n",
      "Requirement already satisfied: python-dateutil>=2.5.3 in /home/vscode/.local/lib/python3.12/site-packages (from newspaper3k<0.3.0,>=0.2.8->llama-index-readers-web) (2.9.0.post0)\n",
      "Requirement already satisfied: tinysegmenter==0.3 in /home/vscode/.local/lib/python3.12/site-packages (from newspaper3k<0.3.0,>=0.2.8->llama-index-readers-web) (0.3)\n",
      "Requirement already satisfied: click in /home/vscode/.local/lib/python3.12/site-packages (from nltk>3.8.1->llama-index-core) (8.1.8)\n",
      "Requirement already satisfied: joblib in /home/vscode/.local/lib/python3.12/site-packages (from nltk>3.8.1->llama-index-core) (1.4.2)\n",
      "Requirement already satisfied: regex>=2021.8.3 in /home/vscode/.local/lib/python3.12/site-packages (from nltk>3.8.1->llama-index-core) (2024.11.6)\n",
      "Requirement already satisfied: pyee<13,>=12 in /home/vscode/.local/lib/python3.12/site-packages (from playwright<2.0,>=1.30->llama-index-readers-web) (12.1.1)\n",
      "Requirement already satisfied: greenlet<4.0.0,>=3.1.1 in /home/vscode/.local/lib/python3.12/site-packages (from playwright<2.0,>=1.30->llama-index-readers-web) (3.1.1)\n",
      "Requirement already satisfied: annotated-types>=0.6.0 in /home/vscode/.local/lib/python3.12/site-packages (from pydantic>=2.8.0->llama-index-core) (0.7.0)\n",
      "Requirement already satisfied: pydantic-core==2.33.0 in /home/vscode/.local/lib/python3.12/site-packages (from pydantic>=2.8.0->llama-index-core) (2.33.0)\n",
      "Requirement already satisfied: typing-inspection>=0.4.0 in /home/vscode/.local/lib/python3.12/site-packages (from pydantic>=2.8.0->llama-index-core) (0.4.0)\n",
      "Requirement already satisfied: charset-normalizer<4,>=2 in /home/vscode/.local/lib/python3.12/site-packages (from requests<3.0.0,>=2.31.0->llama-index-readers-web) (3.4.1)\n",
      "Requirement already satisfied: idna<4,>=2.5 in /home/vscode/.local/lib/python3.12/site-packages (from requests<3.0.0,>=2.31.0->llama-index-readers-web) (3.10)\n",
      "Requirement already satisfied: certifi>=2017.4.17 in /home/vscode/.local/lib/python3.12/site-packages (from requests<3.0.0,>=2.31.0->llama-index-readers-web) (2025.1.31)\n",
      "Requirement already satisfied: trio~=0.17 in /home/vscode/.local/lib/python3.12/site-packages (from selenium<5.0.0,>=4.17.2->llama-index-readers-web) (0.29.0)\n",
      "Requirement already satisfied: trio-websocket~=0.9 in /home/vscode/.local/lib/python3.12/site-packages (from selenium<5.0.0,>=4.17.2->llama-index-readers-web) (0.12.2)\n",
      "Requirement already satisfied: websocket-client~=1.8 in /home/vscode/.local/lib/python3.12/site-packages (from selenium<5.0.0,>=4.17.2->llama-index-readers-web) (1.8.0)\n",
      "Requirement already satisfied: mypy-extensions>=0.3.0 in /home/vscode/.local/lib/python3.12/site-packages (from typing-inspect>=0.8.0->llama-index-core) (1.0.0)\n",
      "Requirement already satisfied: marshmallow<4.0.0,>=3.18.0 in /home/vscode/.local/lib/python3.12/site-packages (from dataclasses-json->llama-index-core) (3.26.1)\n",
      "Requirement already satisfied: anyio in /home/vscode/.local/lib/python3.12/site-packages (from httpx->llama-index-core) (4.9.0)\n",
      "Requirement already satisfied: httpcore==1.* in /home/vscode/.local/lib/python3.12/site-packages (from httpx->llama-index-core) (1.0.7)\n",
      "Requirement already satisfied: h11<0.15,>=0.13 in /home/vscode/.local/lib/python3.12/site-packages (from httpcore==1.*->httpx->llama-index-core) (0.14.0)\n",
      "Requirement already satisfied: pytz>=2020.1 in /home/vscode/.local/lib/python3.12/site-packages (from pandas->llama-index-readers-file) (2025.2)\n",
      "Requirement already satisfied: tzdata>=2022.7 in /home/vscode/.local/lib/python3.12/site-packages (from pandas->llama-index-readers-file) (2025.2)\n",
      "Requirement already satisfied: six in /home/vscode/.local/lib/python3.12/site-packages (from feedfinder2>=0.0.4->newspaper3k<0.3.0,>=0.2.8->llama-index-readers-web) (1.17.0)\n",
      "Requirement already satisfied: sgmllib3k in /home/vscode/.local/lib/python3.12/site-packages (from feedparser>=5.2.1->newspaper3k<0.3.0,>=0.2.8->llama-index-readers-web) (1.0.0)\n",
      "Requirement already satisfied: requests-file>=1.4 in /home/vscode/.local/lib/python3.12/site-packages (from tldextract>=2.0.1->newspaper3k<0.3.0,>=0.2.8->llama-index-readers-web) (2.1.0)\n",
      "Requirement already satisfied: filelock>=3.0.8 in /home/vscode/.local/lib/python3.12/site-packages (from tldextract>=2.0.1->newspaper3k<0.3.0,>=0.2.8->llama-index-readers-web) (3.18.0)\n",
      "Requirement already satisfied: sortedcontainers in /home/vscode/.local/lib/python3.12/site-packages (from trio~=0.17->selenium<5.0.0,>=4.17.2->llama-index-readers-web) (2.4.0)\n",
      "Requirement already satisfied: outcome in /home/vscode/.local/lib/python3.12/site-packages (from trio~=0.17->selenium<5.0.0,>=4.17.2->llama-index-readers-web) (1.3.0.post0)\n",
      "Requirement already satisfied: sniffio>=1.3.0 in /home/vscode/.local/lib/python3.12/site-packages (from trio~=0.17->selenium<5.0.0,>=4.17.2->llama-index-readers-web) (1.3.1)\n",
      "Requirement already satisfied: wsproto>=0.14 in /home/vscode/.local/lib/python3.12/site-packages (from trio-websocket~=0.9->selenium<5.0.0,>=4.17.2->llama-index-readers-web) (1.2.0)\n",
      "Requirement already satisfied: pysocks!=1.5.7,<2.0,>=1.5.6 in /home/vscode/.local/lib/python3.12/site-packages (from urllib3[socks]<3,>=1.26->selenium<5.0.0,>=4.17.2->llama-index-readers-web) (1.7.1)\n",
      "Requirement already satisfied: colorama>=0.4 in /home/vscode/.local/lib/python3.12/site-packages (from griffe->banks<3.0.0,>=2.0.0->llama-index-core) (0.4.6)\n",
      "Requirement already satisfied: MarkupSafe>=2.0 in /home/vscode/.local/lib/python3.12/site-packages (from jinja2->banks<3.0.0,>=2.0.0->llama-index-core) (3.0.2)\n",
      "Note: you may need to restart the kernel to use updated packages.\n"
     ]
    }
   ],
   "source": [
    "%pip install llama-index-readers-file llama-index-readers-web llama-index-core llama-index-readers-json llama-index-readers-database docx2txt"
   ]
  },
  {
   "cell_type": "code",
   "execution_count": null,
   "metadata": {},
   "outputs": [
    {
     "name": "stderr",
     "output_type": "stream",
     "text": [
      "Ignoring wrong pointing object 6 0 (offset 0)\n"
     ]
    },
    {
     "name": "stdout",
     "output_type": "stream",
     "text": [
      "PDF extract: Renewable Energy Market Trends: A 2025 Overview Executive Summary This report examines the current state of renewable energy markets globally, highlighting key trends, challenges, and opportunities. I...\n",
      "DOCX extract: Renewable Energy Market Trends: A 2025 Overview\n",
      "\n",
      "Executive Summary\n",
      "\n",
      "This report examines the current state of renewable energy markets globally, highlighting key trends, challenges, and opportunities....\n",
      "Web extract: <!doctype html>\n",
      "<html>\n",
      "<head>\n",
      "    <title>Example Domain</title>\n",
      "\n",
      "    <meta charset=\"utf-8\" />\n",
      "    <meta http-equiv=\"Content-type\" content=\"text/html; charset=utf-8\" />\n",
      "    <meta name=\"viewport\" conten...\n"
     ]
    }
   ],
   "source": [
    "from llama_index.readers.file import PDFReader, DocxReader\n",
    "from llama_index.readers.web import SimpleWebPageReader\n",
    "import pathlib\n",
    "\n",
    "# Extract from PDF\n",
    "pdf_reader = PDFReader()\n",
    "pdf_docs = pdf_reader.load_data(file=pathlib.Path(\"../samples/pdf-report.pdf\"))\n",
    "\n",
    "# Extract from DOCX\n",
    "docx_reader = DocxReader()\n",
    "docx_docs = docx_reader.load_data(file=pathlib.Path(\"../samples/docx-report.docx\"))\n",
    "\n",
    "# Extract from Web\n",
    "web_reader = SimpleWebPageReader()\n",
    "web_docs = web_reader.load_data(urls=[\"https://example.com\"])\n",
    "\n",
    "# Let's see what the extracted text looks like\n",
    "print(f\"PDF extract: {pdf_docs[0].text[:200]}...\")\n",
    "print(f\"DOCX extract: {docx_docs[0].text[:200]}...\")\n",
    "print(f\"Web extract: {web_docs[0].text[:200]}...\")"
   ]
  },
  {
   "cell_type": "code",
   "execution_count": 2,
   "metadata": {},
   "outputs": [
    {
     "name": "stdout",
     "output_type": "stream",
     "text": [
      "CSV extract: OrderID, OrderDate, Customer, Product, Quantity, OrderStatus, Misc\n",
      "4321, 1/30/2010, BX30550, ABQ008, 163, Complete, 54\n",
      "4352, 1/15/2010, DY55760, ABQ008, 107, Complete, 36\n",
      "4353, 1/29/2010, BC13961, ABQ...\n",
      "JSON extract: \"OrderID\": 4321,\n",
      "\"OrderDate\": \"1/30/2010\",\n",
      "\"Customer\": \"BX30550\",\n",
      "\"Product\": \"ABQ008\",\n",
      "\"Quantity\": 163,\n",
      "\"OrderStatus\": \"Complete\",\n",
      "\"Misc\": 54\n",
      "\"OrderID\": 4352,\n",
      "\"OrderDate\": \"1/15/2010\",\n",
      "\"Customer\": \"DY...\n",
      "Markdown extract: \n",
      "\n",
      "Sample Data Files Files Overview\n",
      "This directory contains sample data files in various formats for testing and demonstration purposes.\n",
      "- **csv-data.csv**: Tabular data in CSV format\n",
      "- **json-data.jso...\n",
      "DB extract: OrderID: 4321, OrderDate: 1/30/2010, Customer: BX30550, Product: ABQ008, Quantity: 163, OrderStatus: Complete, Misc: 54...\n"
     ]
    }
   ],
   "source": [
    "from llama_index.readers.file import CSVReader, MarkdownReader\n",
    "from llama_index.readers.json import JSONReader\n",
    "from llama_index.readers.database import DatabaseReader\n",
    "import pathlib\n",
    "\n",
    "# CSV files\n",
    "csv_reader = CSVReader()\n",
    "csv_docs = csv_reader.load_data(file=pathlib.Path(\"../samples/csv-data.csv\"))\n",
    "\n",
    "# JSON files\n",
    "json_reader = JSONReader()\n",
    "json_docs = json_reader.load_data(input_file=\"../samples/json-data.json\")\n",
    "\n",
    "# Markdown files\n",
    "md_reader = MarkdownReader()\n",
    "md_docs = md_reader.load_data(file=\"../samples/README.md\")\n",
    "\n",
    "# Databases \n",
    "db_reader = DatabaseReader(uri=\"sqlite:///../samples/database.db\")\n",
    "db_docs = db_reader.load_data(query=\"SELECT * FROM orders\")\n",
    "\n",
    "# Let's see what the extracted text looks like\n",
    "print(f\"CSV extract: {csv_docs[0].text[:200]}...\")\n",
    "print(f\"JSON extract: {json_docs[0].text[:200]}...\")\n",
    "print(f\"Markdown extract: {md_docs[0].text[:200]}...\")\n",
    "print(f\"DB extract: {db_docs[0].text[:200]}...\")"
   ]
  },
  {
   "cell_type": "code",
   "execution_count": 3,
   "metadata": {},
   "outputs": [
    {
     "name": "stdout",
     "output_type": "stream",
     "text": [
      "Original first 100 chars: Renewable Energy Market Trends: A 2025 Overview Executive Summary This report examines the current s\n",
      "Cleaned first 100 chars: Renewable Energy Market Trends: A 2025 Overview Executive Summary This report examines the current s\n",
      "Original length: 2180 characters\n",
      "Cleaned length: 2173 characters\n"
     ]
    }
   ],
   "source": [
    "import re\n",
    "from llama_index.core.schema import Document\n",
    "\n",
    "# Get our raw text from a document\n",
    "raw_text = pdf_docs[0].text\n",
    "\n",
    "def clean_text(text):\n",
    "    # Remove excessive whitespace\n",
    "    text = re.sub(r'\\s+', ' ', text)\n",
    "\n",
    "    # Remove special characters but keep structural elements\n",
    "    text = re.sub(r'[^\\w\\s\\.\\,\\;\\:\\-\\(\\)\\[\\]\\{\\}\\\"\\'\\n\\t]', '', text)\n",
    "\n",
    "    # Fix common OCR errors (example)\n",
    "    text = text.replace('l<eywor', 'keyword')\n",
    "\n",
    "    return text.strip()\n",
    "\n",
    "\n",
    "# Let's clean our text\n",
    "cleaned_text = clean_text(raw_text)\n",
    "\n",
    "print(f\"Original first 100 chars: {raw_text[:100]}\")\n",
    "print(f\"Cleaned first 100 chars: {cleaned_text[:100]}\")\n",
    "print(f\"Original length: {len(raw_text)} characters\")\n",
    "print(f\"Cleaned length: {len(cleaned_text)} characters\")"
   ]
  },
  {
   "cell_type": "code",
   "execution_count": 4,
   "metadata": {},
   "outputs": [
    {
     "name": "stdout",
     "output_type": "stream",
     "text": [
      "Extracted metadata: {'source': '../samples/pdf-report.pdf', 'file_type': 'pdf'}\n"
     ]
    }
   ],
   "source": [
    "# Function to extract basic metadata\n",
    "def extract_metadata(text, filename):\n",
    "    metadata = {\n",
    "        \"source\": filename,\n",
    "        \"file_type\": filename.split('.')[-1],\n",
    "    }\n",
    "\n",
    "    # Extract title (assume first line might be title)\n",
    "    lines = text.split('\\n')\n",
    "    if lines and len(lines[0]) < 100:  # Simple heuristic for title\n",
    "        metadata[\"title\"] = lines[0].strip()\n",
    "\n",
    "    # Try to extract date with regex (simple example)\n",
    "    date_match = re.search(r'\\d{1,2}[\\/\\-\\.]\\d{1,2}[\\/\\-\\.]\\d{2,4}', text)\n",
    "    if date_match:\n",
    "        metadata[\"date\"] = date_match.group(0)\n",
    "\n",
    "    return metadata\n",
    "\n",
    "\n",
    "# Extract metadata from our document\n",
    "metadata = extract_metadata(raw_text, \"../samples/pdf-report.pdf\")\n",
    "\n",
    "# Create a new document with cleaned text and metadata\n",
    "processed_doc = Document(\n",
    "    text=cleaned_text,\n",
    "    metadata=metadata\n",
    ")\n",
    "\n",
    "print(f\"Extracted metadata: {metadata}\")"
   ]
  },
  {
   "cell_type": "code",
   "execution_count": 5,
   "metadata": {},
   "outputs": [
    {
     "name": "stderr",
     "output_type": "stream",
     "text": [
      "Ignoring wrong pointing object 6 0 (offset 0)\n"
     ]
    },
    {
     "name": "stdout",
     "output_type": "stream",
     "text": [
      "Processed document: 2173 characters\n",
      "Metadata: {'source': '../samples/pdf-report.pdf', 'file_type': 'pdf'}\n"
     ]
    }
   ],
   "source": [
    "def process_document(file_path):\n",
    "    \"\"\"Process a document with appropriate reader and cleaning\"\"\"\n",
    "\n",
    "    # Determine file type\n",
    "    file_type = file_path.split('.')[-1].lower()\n",
    "\n",
    "    # Select appropriate reader\n",
    "    if file_type == 'pdf':\n",
    "        reader = PDFReader()\n",
    "    elif file_type in ['docx', 'doc']:\n",
    "        reader = DocxReader()\n",
    "    elif file_type in ['html', 'htm']:\n",
    "        # Assuming file is a local HTML file\n",
    "        reader = SimpleWebPageReader()\n",
    "    else:\n",
    "        # Default to simple text reading\n",
    "        with open(file_path, 'r') as f:\n",
    "            return Document(text=f.read(), metadata={\"source\": file_path})\n",
    "\n",
    "    # Load and extract text\n",
    "    docs = reader.load_data(file=file_path)\n",
    "\n",
    "    if not docs:\n",
    "        return None\n",
    "\n",
    "    # Clean the text\n",
    "    cleaned_text = clean_text(docs[0].text)\n",
    "\n",
    "    # Extract metadata\n",
    "    metadata = extract_metadata(docs[0].text, file_path)\n",
    "\n",
    "    # Create processed document\n",
    "    return Document(text=cleaned_text, metadata=metadata)\n",
    "\n",
    "# Example usage\n",
    "processed_doc = process_document(\"../samples/pdf-report.pdf\")\n",
    "print(f\"Processed document: {len(processed_doc.text)} characters\")\n",
    "print(f\"Metadata: {processed_doc.metadata}\")"
   ]
  },
  {
   "cell_type": "code",
   "execution_count": null,
   "metadata": {},
   "outputs": [],
   "source": []
  }
 ],
 "metadata": {
  "kernelspec": {
   "display_name": ".venv",
   "language": "python",
   "name": "python3"
  },
  "language_info": {
   "codemirror_mode": {
    "name": "ipython",
    "version": 3
   },
   "file_extension": ".py",
   "mimetype": "text/x-python",
   "name": "python",
   "nbconvert_exporter": "python",
   "pygments_lexer": "ipython3",
   "version": "3.12.9"
  }
 },
 "nbformat": 4,
 "nbformat_minor": 2
}
