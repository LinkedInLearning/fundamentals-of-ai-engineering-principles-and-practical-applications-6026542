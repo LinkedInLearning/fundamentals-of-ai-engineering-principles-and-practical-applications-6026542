{
 "cells": [
  {
   "cell_type": "markdown",
   "metadata": {},
   "source": [
    "# Hybrid Retrieval Concepts\n",
    "\n",
    "1. Fusion approaches: Retrieving documents separately with each method, then combining results.\n",
    "    - Simple fusion: Taking the union of results from multiple retrievers\n",
    "    - Weighted fusion: Adjusting scores from each retriever and combining them\n",
    "    - Reciprocal rank fusion: Considering the rank position of documents in each result set\n",
    "\n",
    "2. Ensemble approaches: Using multiple retrievers in series or with more complex logic\n",
    "    - Sequential retrieval: Using one retriever's output as input to another\n",
    "    - Filter-then-rank: Using one method to create a candidate pool, another to rank"
   ]
  },
  {
   "cell_type": "markdown",
   "metadata": {},
   "source": []
  },
  {
   "cell_type": "code",
   "execution_count": 1,
   "metadata": {},
   "outputs": [],
   "source": [
    "# Imports\n",
    "import pandas as pd\n",
    "from llama_index.core import Document, VectorStoreIndex\n",
    "from llama_index.core.node_parser import SentenceSplitter\n",
    "from llama_index.retrievers.bm25 import BM25Retriever\n",
    "from llama_index.core.schema import QueryBundle, NodeWithScore\n",
    "from llama_index.core.retrievers import BaseRetriever\n",
    "from llama_index.embeddings.huggingface import HuggingFaceEmbedding"
   ]
  },
  {
   "cell_type": "code",
   "execution_count": 2,
   "metadata": {},
   "outputs": [],
   "source": [
    "# Create sample AI-related documents\n",
    "documents = [\n",
    "    Document(text=\"Machine learning is a subset of artificial intelligence that involves building systems that can learn from data. Common machine learning algorithms include linear regression, decision trees, and neural networks.\"),\n",
    "    Document(text=\"BM25, or Best Match 25, also known as Okapi BM25, is a ranking algorithm for information retrieval and search engines that determines a document's relevance to a given query and ranks documents based on their relevance scores.\"),\n",
    "    Document(text=\"Neural networks are computational models inspired by the human brain. They consist of layers of interconnected nodes or 'neurons' that process and transform input data to produce meaningful outputs.\"),\n",
    "    Document(text=\"Transformers are a type of deep learning architecture introduced in the paper 'Attention is All You Need'. They have revolutionized natural language processing tasks such as translation, summarization, and question answering.\"),\n",
    "    Document(text=\"Backpropagation is a key algorithm for training neural networks. It calculates the gradient of the loss function with respect to the network weights, allowing for efficient optimization.\"),\n",
    "    Document(text=\"Computer vision is an interdisciplinary field that deals with how computers can gain high-level understanding from digital images or videos. It aims to automate tasks that the human visual system can do.\"),\n",
    "    Document(text=\"Reinforcement learning is a type of machine learning where an agent learns to make decisions by taking actions in an environment to maximize a reward signal. It has been used to achieve superhuman performance in games like chess, Go, and various Atari games.\"),\n",
    "    Document(text=\"Large Language Models (LLMs) like GPT-4 and Claude are transformer-based models trained on vast amounts of text data. They can generate human-like text, answer questions, and perform a variety of language tasks.\"),\n",
    "    Document(text=\"Natural Language Processing (NLP) encompasses techniques for understanding, interpreting and generating human language. Modern NLP systems use transformer architectures to process and generate text with remarkable accuracy.\"),\n",
    "    Document(text=\"Deep learning is a subset of machine learning that uses multi-layered neural networks to learn from data. It has achieved breakthroughs in computer vision, speech recognition, and natural language processing.\"),\n",
    "]"
   ]
  },
  {
   "cell_type": "code",
   "execution_count": 6,
   "metadata": {},
   "outputs": [],
   "source": [
    "# Create the individual BM25 and Vector retrievers\n",
    "def create_retrievers(documents, top_k=5):\n",
    "    \"\"\"Create BM25 and Vector retrievers from documents.\"\"\"\n",
    "\n",
    "    # VectorDB Setup\n",
    "    parser = SentenceSplitter(chunk_size=2000, chunk_overlap=0)\n",
    "    nodes = parser.get_nodes_from_documents(documents)\n",
    "    bm25_retriever = BM25Retriever.from_defaults(nodes=nodes, similarity_top_k=top_k)\n",
    "    embed_model = HuggingFaceEmbedding(model_name=\"sentence-transformers/all-MiniLM-L6-v2\")\n",
    "    vector_index = VectorStoreIndex(nodes, embed_model=embed_model)\n",
    "    vector_retriever = vector_index.as_retriever(similarity_top_k=top_k)\n",
    "\n",
    "    return {\n",
    "        \"BM25\": bm25_retriever,\n",
    "        \"Vector\": vector_retriever,\n",
    "        \"nodes\": nodes\n",
    "    }"
   ]
  },
  {
   "cell_type": "code",
   "execution_count": 4,
   "metadata": {},
   "outputs": [],
   "source": [
    "# Create a simple hybrid retriever\n",
    "class SimpleFusionRetriever(BaseRetriever):\n",
    "    \"\"\"Simple fusion retriever that combines results from multiple retrievers.\"\"\"\n",
    "\n",
    "    def __init__(\n",
    "        self,\n",
    "        retrievers: dict,\n",
    "    ):\n",
    "        \"\"\"Initialize with retrievers dictionary.\"\"\"\n",
    "        self.retrievers = retrievers\n",
    "        super().__init__()\n",
    "\n",
    "    def _retrieve(self, query_bundle: QueryBundle) -> list[NodeWithScore]:\n",
    "        \"\"\"Retrieve nodes given query.\"\"\"\n",
    "        all_nodes = {}\n",
    "\n",
    "        for name, retriever in self.retrievers.items():\n",
    "            results = retriever.retrieve(query_bundle)\n",
    "\n",
    "            # Add to results dictionary (keyed by node_id for deduplication)\n",
    "            for node in results:\n",
    "                all_nodes[node.node.node_id] = node\n",
    "        # Return all unique nodes\n",
    "        return list(all_nodes.values())"
   ]
  },
  {
   "cell_type": "code",
   "execution_count": 5,
   "metadata": {},
   "outputs": [
    {
     "data": {
      "application/vnd.jupyter.widget-view+json": {
       "model_id": "eae1fb9074564e7188c12d9fdb2e7db4",
       "version_major": 2,
       "version_minor": 0
      },
      "text/plain": [
       "modules.json:   0%|          | 0.00/349 [00:00<?, ?B/s]"
      ]
     },
     "metadata": {},
     "output_type": "display_data"
    },
    {
     "data": {
      "application/vnd.jupyter.widget-view+json": {
       "model_id": "18d07e43338f47aa81bc48d595114fbd",
       "version_major": 2,
       "version_minor": 0
      },
      "text/plain": [
       "config_sentence_transformers.json:   0%|          | 0.00/116 [00:00<?, ?B/s]"
      ]
     },
     "metadata": {},
     "output_type": "display_data"
    },
    {
     "data": {
      "application/vnd.jupyter.widget-view+json": {
       "model_id": "3e374d3396024694a06be3b611f8f5ae",
       "version_major": 2,
       "version_minor": 0
      },
      "text/plain": [
       "README.md:   0%|          | 0.00/10.5k [00:00<?, ?B/s]"
      ]
     },
     "metadata": {},
     "output_type": "display_data"
    },
    {
     "data": {
      "application/vnd.jupyter.widget-view+json": {
       "model_id": "24ee179f82e04476b1e3ece1e3c96055",
       "version_major": 2,
       "version_minor": 0
      },
      "text/plain": [
       "sentence_bert_config.json:   0%|          | 0.00/53.0 [00:00<?, ?B/s]"
      ]
     },
     "metadata": {},
     "output_type": "display_data"
    },
    {
     "data": {
      "application/vnd.jupyter.widget-view+json": {
       "model_id": "e30f92d9129b480391f914c082fa2ce2",
       "version_major": 2,
       "version_minor": 0
      },
      "text/plain": [
       "config.json:   0%|          | 0.00/612 [00:00<?, ?B/s]"
      ]
     },
     "metadata": {},
     "output_type": "display_data"
    },
    {
     "data": {
      "application/vnd.jupyter.widget-view+json": {
       "model_id": "12089ee747be4ca78f783b5eb43c0418",
       "version_major": 2,
       "version_minor": 0
      },
      "text/plain": [
       "model.safetensors:   0%|          | 0.00/90.9M [00:00<?, ?B/s]"
      ]
     },
     "metadata": {},
     "output_type": "display_data"
    },
    {
     "data": {
      "application/vnd.jupyter.widget-view+json": {
       "model_id": "2d7d08e2672e4865acd6d596c3f5d2e8",
       "version_major": 2,
       "version_minor": 0
      },
      "text/plain": [
       "tokenizer_config.json:   0%|          | 0.00/350 [00:00<?, ?B/s]"
      ]
     },
     "metadata": {},
     "output_type": "display_data"
    },
    {
     "data": {
      "application/vnd.jupyter.widget-view+json": {
       "model_id": "0f20985fcc44439ca02602d80b516d4f",
       "version_major": 2,
       "version_minor": 0
      },
      "text/plain": [
       "vocab.txt:   0%|          | 0.00/232k [00:00<?, ?B/s]"
      ]
     },
     "metadata": {},
     "output_type": "display_data"
    },
    {
     "data": {
      "application/vnd.jupyter.widget-view+json": {
       "model_id": "e7e8a4ffeb8244a68d19bea2934fb116",
       "version_major": 2,
       "version_minor": 0
      },
      "text/plain": [
       "tokenizer.json:   0%|          | 0.00/466k [00:00<?, ?B/s]"
      ]
     },
     "metadata": {},
     "output_type": "display_data"
    },
    {
     "data": {
      "application/vnd.jupyter.widget-view+json": {
       "model_id": "1ba3cdbad223427f8d4793e786dedbaf",
       "version_major": 2,
       "version_minor": 0
      },
      "text/plain": [
       "special_tokens_map.json:   0%|          | 0.00/112 [00:00<?, ?B/s]"
      ]
     },
     "metadata": {},
     "output_type": "display_data"
    },
    {
     "data": {
      "application/vnd.jupyter.widget-view+json": {
       "model_id": "e1382e5a528b4fcaa191f488a00d267b",
       "version_major": 2,
       "version_minor": 0
      },
      "text/plain": [
       "config.json:   0%|          | 0.00/190 [00:00<?, ?B/s]"
      ]
     },
     "metadata": {},
     "output_type": "display_data"
    },
    {
     "name": "stdout",
     "output_type": "stream",
     "text": [
      "Query: algorithm\n",
      "==============================\n",
      "\n",
      "BM25 Retriever Results:\n",
      "----------------------------------------\n",
      "Result 1 [Score: 0.5282]:\n",
      "Backpropagation is a key algorithm for training neural networks. It calculates the gradient of the loss function with respect to the network weights, allowing for efficient optimization.\n",
      "--------------------------------------------------\n",
      "Result 2 [Score: 0.4553]:\n",
      "Machine learning is a subset of artificial intelligence that involves building systems that can learn from data. Common machine learning algorithms include linear regression, decision trees, and neural networks.\n",
      "--------------------------------------------------\n",
      "Result 3 [Score: 0.4465]:\n",
      "BM25, or Best Match 25, also known as Okapi BM25, is a ranking algorithm for information retrieval and search engines that determines a document's relevance to a given query and ranks documents based on their relevance scores.\n",
      "--------------------------------------------------\n",
      "Result 4 [Score: 0.0000]:\n",
      "Deep learning is a subset of machine learning that uses multi-layered neural networks to learn from data. It has achieved breakthroughs in computer vision, speech recognition, and natural language processing.\n",
      "--------------------------------------------------\n",
      "Result 5 [Score: 0.0000]:\n",
      "Natural Language Processing (NLP) encompasses techniques for understanding, interpreting and generating human language. Modern NLP systems use transformer architectures to process and generate text with remarkable accuracy.\n",
      "--------------------------------------------------\n",
      "\n",
      "Vector Retriever Results:\n",
      "----------------------------------------\n",
      "Result 1 [Score: 0.3135]:\n",
      "Machine learning is a subset of artificial intelligence that involves building systems that can learn from data. Common machine learning algorithms include linear regression, decision trees, and neural networks.\n",
      "--------------------------------------------------\n",
      "Result 2 [Score: 0.2828]:\n",
      "BM25, or Best Match 25, also known as Okapi BM25, is a ranking algorithm for information retrieval and search engines that determines a document's relevance to a given query and ranks documents based on their relevance scores.\n",
      "--------------------------------------------------\n",
      "Result 3 [Score: 0.2613]:\n",
      "Backpropagation is a key algorithm for training neural networks. It calculates the gradient of the loss function with respect to the network weights, allowing for efficient optimization.\n",
      "--------------------------------------------------\n",
      "Result 4 [Score: 0.2085]:\n",
      "Natural Language Processing (NLP) encompasses techniques for understanding, interpreting and generating human language. Modern NLP systems use transformer architectures to process and generate text with remarkable accuracy.\n",
      "--------------------------------------------------\n",
      "Result 5 [Score: 0.1984]:\n",
      "Computer vision is an interdisciplinary field that deals with how computers can gain high-level understanding from digital images or videos. It aims to automate tasks that the human visual system can do.\n",
      "--------------------------------------------------\n",
      "\n",
      "Simple Fusion Retriever Results:\n",
      "----------------------------------------\n",
      "Result 1 [Score: 0.2613]:\n",
      "Backpropagation is a key algorithm for training neural networks. It calculates the gradient of the loss function with respect to the network weights, allowing for efficient optimization.\n",
      "--------------------------------------------------\n",
      "Result 2 [Score: 0.3135]:\n",
      "Machine learning is a subset of artificial intelligence that involves building systems that can learn from data. Common machine learning algorithms include linear regression, decision trees, and neural networks.\n",
      "--------------------------------------------------\n",
      "Result 3 [Score: 0.2828]:\n",
      "BM25, or Best Match 25, also known as Okapi BM25, is a ranking algorithm for information retrieval and search engines that determines a document's relevance to a given query and ranks documents based on their relevance scores.\n",
      "--------------------------------------------------\n",
      "Result 4 [Score: 0.0000]:\n",
      "Deep learning is a subset of machine learning that uses multi-layered neural networks to learn from data. It has achieved breakthroughs in computer vision, speech recognition, and natural language processing.\n",
      "--------------------------------------------------\n",
      "Result 5 [Score: 0.2085]:\n",
      "Natural Language Processing (NLP) encompasses techniques for understanding, interpreting and generating human language. Modern NLP systems use transformer architectures to process and generate text with remarkable accuracy.\n",
      "--------------------------------------------------\n",
      "Result 6 [Score: 0.1984]:\n",
      "Computer vision is an interdisciplinary field that deals with how computers can gain high-level understanding from digital images or videos. It aims to automate tasks that the human visual system can do.\n",
      "--------------------------------------------------\n"
     ]
    }
   ],
   "source": [
    "# Create individual retrievers\n",
    "retrievers_dict = create_retrievers(documents, top_k=5)\n",
    "\n",
    "# Create simple fusion retriever\n",
    "hybrid_retriever = SimpleFusionRetriever(\n",
    "    retrievers={k: v for k, v in retrievers_dict.items() if k != \"nodes\"}\n",
    ")\n",
    "\n",
    "# Format results helper function\n",
    "def format_results(results, name):\n",
    "    \"\"\"Format retrieval results for display.\"\"\"\n",
    "    output = [f\"\\n{name} Results:\"]\n",
    "    output.append(\"-\" * 40)\n",
    "\n",
    "    for i, node in enumerate(results):\n",
    "        output.append(f\"Result {i+1} [Score: {node.score:.4f}]:\")\n",
    "        output.append(f\"{node.node.text}\")\n",
    "        output.append(\"-\" * 50)\n",
    "\n",
    "    return \"\\n\".join(output)\n",
    "\n",
    "# Test the retrievers\n",
    "query_text = \"algorithm\"\n",
    "query_bundle = QueryBundle(query_text)\n",
    "\n",
    "print(f\"Query: {query_text}\")\n",
    "print(\"=\" * 30)\n",
    "\n",
    "# Get results from each retriever\n",
    "bm25_results = retrievers_dict[\"BM25\"].retrieve(query_bundle)\n",
    "vector_results = retrievers_dict[\"Vector\"].retrieve(query_bundle)\n",
    "hybrid_results = hybrid_retriever.retrieve(query_bundle)\n",
    "\n",
    "# Print results\n",
    "print(format_results(bm25_results, \"BM25 Retriever\"))\n",
    "print(format_results(vector_results, \"Vector Retriever\"))\n",
    "print(format_results(hybrid_results, \"Simple Fusion Retriever\"))"
   ]
  },
  {
   "cell_type": "code",
   "execution_count": 7,
   "metadata": {},
   "outputs": [],
   "source": [
    "# Create a more advanced hybrid retriever with weighted scoring\n",
    "class WeightedFusionRetriever(BaseRetriever):\n",
    "    \"\"\"Weighted fusion retriever that combines and rescores results.\"\"\"\n",
    "\n",
    "    def __init__(\n",
    "        self,\n",
    "        retrievers: dict,\n",
    "        weights: dict\n",
    "    ):\n",
    "        \"\"\"Initialize with retrievers and weights.\"\"\"\n",
    "        self.retrievers = retrievers\n",
    "        self.weights = weights\n",
    "        super().__init__()\n",
    "\n",
    "    def _retrieve(self, query_bundle: QueryBundle) -> list[NodeWithScore]:\n",
    "        \"\"\"Retrieve nodes with weighted fusion approach.\"\"\"\n",
    "        # Get results from each retriever\n",
    "        all_results = {}\n",
    "\n",
    "        for name, retriever in self.retrievers.items():\n",
    "            results = retriever.retrieve(query_bundle)\n",
    "            weight = self.weights.get(name, 1.0)\n",
    "\n",
    "            for node_with_score in results:\n",
    "                node_id = node_with_score.node.node_id\n",
    "\n",
    "                # Apply weight to score\n",
    "                weighted_score = node_with_score.score * weight\n",
    "\n",
    "                if node_id not in all_results:\n",
    "                    all_results[node_id] = {\n",
    "                        \"node\": node_with_score.node,\n",
    "                        \"scores\": {}\n",
    "                    }\n",
    "\n",
    "                all_results[node_id][\"scores\"][name] = weighted_score\n",
    "\n",
    "        # Combine scores and create final results\n",
    "        final_results = []\n",
    "        for node_id, data in all_results.items():\n",
    "            # Sum up the scores from different retrievers\n",
    "            combined_score = sum(data[\"scores\"].values())\n",
    "\n",
    "            # Create NodeWithScore object\n",
    "            node_with_score = NodeWithScore(\n",
    "                node=data[\"node\"],\n",
    "                score=combined_score\n",
    "            )\n",
    "            final_results.append(node_with_score)\n",
    "\n",
    "        # Sort by combined score (descending)\n",
    "        final_results.sort(key=lambda x: x.score, reverse=True)\n",
    "\n",
    "        return final_results"
   ]
  },
  {
   "cell_type": "code",
   "execution_count": 8,
   "metadata": {},
   "outputs": [
    {
     "name": "stdout",
     "output_type": "stream",
     "text": [
      "\n",
      "\n",
      "Query: how do computers understand images?\n",
      "================================================================================\n",
      "\n",
      "BM25-Heavy Weighted Fusion Results:\n",
      "----------------------------------------\n",
      "Result 1 [Score: 2.9622]:\n",
      "Computer vision is an interdisciplinary field that deals with how computers can gain high-level understanding from digital images or videos. It aims to automate tasks that the human visual system can do.\n",
      "--------------------------------------------------\n",
      "Result 2 [Score: 0.5407]:\n",
      "Natural Language Processing (NLP) encompasses techniques for understanding, interpreting and generating human language. Modern NLP systems use transformer architectures to process and generate text with remarkable accuracy.\n",
      "--------------------------------------------------\n",
      "Result 3 [Score: 0.4552]:\n",
      "Neural networks are computational models inspired by the human brain. They consist of layers of interconnected nodes or 'neurons' that process and transform input data to produce meaningful outputs.\n",
      "--------------------------------------------------\n",
      "Result 4 [Score: 0.4291]:\n",
      "Deep learning is a subset of machine learning that uses multi-layered neural networks to learn from data. It has achieved breakthroughs in computer vision, speech recognition, and natural language processing.\n",
      "--------------------------------------------------\n",
      "Result 5 [Score: 0.0519]:\n",
      "Machine learning is a subset of artificial intelligence that involves building systems that can learn from data. Common machine learning algorithms include linear regression, decision trees, and neural networks.\n",
      "--------------------------------------------------\n",
      "Result 6 [Score: 0.0000]:\n",
      "Reinforcement learning is a type of machine learning where an agent learns to make decisions by taking actions in an environment to maximize a reward signal. It has been used to achieve superhuman performance in games like chess, Go, and various Atari games.\n",
      "--------------------------------------------------\n",
      "\n",
      "Vector-Heavy Weighted Fusion Results:\n",
      "----------------------------------------\n",
      "Result 1 [Score: 1.1955]:\n",
      "Computer vision is an interdisciplinary field that deals with how computers can gain high-level understanding from digital images or videos. It aims to automate tasks that the human visual system can do.\n",
      "--------------------------------------------------\n",
      "Result 2 [Score: 0.3600]:\n",
      "Natural Language Processing (NLP) encompasses techniques for understanding, interpreting and generating human language. Modern NLP systems use transformer architectures to process and generate text with remarkable accuracy.\n",
      "--------------------------------------------------\n",
      "Result 3 [Score: 0.3506]:\n",
      "Deep learning is a subset of machine learning that uses multi-layered neural networks to learn from data. It has achieved breakthroughs in computer vision, speech recognition, and natural language processing.\n",
      "--------------------------------------------------\n",
      "Result 4 [Score: 0.3377]:\n",
      "Neural networks are computational models inspired by the human brain. They consist of layers of interconnected nodes or 'neurons' that process and transform input data to produce meaningful outputs.\n",
      "--------------------------------------------------\n",
      "Result 5 [Score: 0.2074]:\n",
      "Machine learning is a subset of artificial intelligence that involves building systems that can learn from data. Common machine learning algorithms include linear regression, decision trees, and neural networks.\n",
      "--------------------------------------------------\n",
      "Result 6 [Score: 0.0000]:\n",
      "Reinforcement learning is a type of machine learning where an agent learns to make decisions by taking actions in an environment to maximize a reward signal. It has been used to achieve superhuman performance in games like chess, Go, and various Atari games.\n",
      "--------------------------------------------------\n",
      "\n",
      "Balanced Weighted Fusion Results:\n",
      "----------------------------------------\n",
      "Result 1 [Score: 2.0788]:\n",
      "Computer vision is an interdisciplinary field that deals with how computers can gain high-level understanding from digital images or videos. It aims to automate tasks that the human visual system can do.\n",
      "--------------------------------------------------\n",
      "Result 2 [Score: 0.4504]:\n",
      "Natural Language Processing (NLP) encompasses techniques for understanding, interpreting and generating human language. Modern NLP systems use transformer architectures to process and generate text with remarkable accuracy.\n",
      "--------------------------------------------------\n",
      "Result 3 [Score: 0.3964]:\n",
      "Neural networks are computational models inspired by the human brain. They consist of layers of interconnected nodes or 'neurons' that process and transform input data to produce meaningful outputs.\n",
      "--------------------------------------------------\n",
      "Result 4 [Score: 0.3899]:\n",
      "Deep learning is a subset of machine learning that uses multi-layered neural networks to learn from data. It has achieved breakthroughs in computer vision, speech recognition, and natural language processing.\n",
      "--------------------------------------------------\n",
      "Result 5 [Score: 0.1296]:\n",
      "Machine learning is a subset of artificial intelligence that involves building systems that can learn from data. Common machine learning algorithms include linear regression, decision trees, and neural networks.\n",
      "--------------------------------------------------\n",
      "Result 6 [Score: 0.0000]:\n",
      "Reinforcement learning is a type of machine learning where an agent learns to make decisions by taking actions in an environment to maximize a reward signal. It has been used to achieve superhuman performance in games like chess, Go, and various Atari games.\n",
      "--------------------------------------------------\n"
     ]
    }
   ],
   "source": [
    "# Test the weighted fusion retriever with different weights\n",
    "# Create weighted fusion retrievers with different weight configurations\n",
    "bm25_heavy = WeightedFusionRetriever(\n",
    "    retrievers={k: v for k, v in retrievers_dict.items() if k != \"nodes\"},\n",
    "    weights={\"BM25\": 0.8, \"Vector\": 0.2}  # BM25 heavy\n",
    ")\n",
    "\n",
    "vector_heavy = WeightedFusionRetriever(\n",
    "    retrievers={k: v for k, v in retrievers_dict.items() if k != \"nodes\"},\n",
    "    weights={\"BM25\": 0.2, \"Vector\": 0.8}  # Vector heavy\n",
    ")\n",
    "\n",
    "balanced = WeightedFusionRetriever(\n",
    "    retrievers={k: v for k, v in retrievers_dict.items() if k != \"nodes\"},\n",
    "    weights={\"BM25\": 0.5, \"Vector\": 0.5}  # Balanced weights\n",
    ")\n",
    "\n",
    "# Test with a semantic query\n",
    "semantic_query = \"how do computers understand images?\"\n",
    "semantic_bundle = QueryBundle(semantic_query)\n",
    "\n",
    "print(f\"\\n\\nQuery: {semantic_query}\")\n",
    "print(\"=\" * 80)\n",
    "\n",
    "# Get results from weighted retrievers\n",
    "bm25_heavy_results = bm25_heavy.retrieve(semantic_bundle)\n",
    "vector_heavy_results = vector_heavy.retrieve(semantic_bundle)\n",
    "balanced_results = balanced.retrieve(semantic_bundle)\n",
    "\n",
    "# Print results\n",
    "print(format_results(bm25_heavy_results, \"BM25-Heavy Weighted Fusion\"))\n",
    "print(format_results(vector_heavy_results, \"Vector-Heavy Weighted Fusion\"))\n",
    "print(format_results(balanced_results, \"Balanced Weighted Fusion\"))"
   ]
  },
  {
   "cell_type": "code",
   "execution_count": 9,
   "metadata": {},
   "outputs": [
    {
     "name": "stdout",
     "output_type": "stream",
     "text": [
      "\n",
      "Retriever Comparison Across Query Types:\n",
      "                                 Query  \\\n",
      "0                              CV libs   \n",
      "1      neural networks backpropagation   \n",
      "2  how do computers understand images?   \n",
      "3          natural language processing   \n",
      "4        machine learning applications   \n",
      "5      reinforcement learning in games   \n",
      "\n",
      "                                          BM25 Top 3  \\\n",
      "0  Deep learning is a subset of machine learning ...   \n",
      "1  Backpropagation is a key algorithm for trainin...   \n",
      "2  Computer vision is an interdisciplinary field ...   \n",
      "3  Natural Language Processing (NLP) encompasses ...   \n",
      "4  Machine learning is a subset of artificial int...   \n",
      "5  Reinforcement learning is a type of machine le...   \n",
      "\n",
      "                                        Vector Top 3  \\\n",
      "0  Large Language Models (LLMs) like GPT-4 and Cl...   \n",
      "1  Backpropagation is a key algorithm for trainin...   \n",
      "2  Computer vision is an interdisciplinary field ...   \n",
      "3  Natural Language Processing (NLP) encompasses ...   \n",
      "4  Machine learning is a subset of artificial int...   \n",
      "5  Reinforcement learning is a type of machine le...   \n",
      "\n",
      "                                        Fusion Top 3  \\\n",
      "0  Deep learning is a subset of machine learning ...   \n",
      "1  Backpropagation is a key algorithm for trainin...   \n",
      "2  Computer vision is an interdisciplinary field ...   \n",
      "3  Natural Language Processing (NLP) encompasses ...   \n",
      "4  Machine learning is a subset of artificial int...   \n",
      "5  Reinforcement learning is a type of machine le...   \n",
      "\n",
      "                                    BM25-Heavy Top 3  \\\n",
      "0  Large Language Models (LLMs) like GPT-4 and Cl...   \n",
      "1  Backpropagation is a key algorithm for trainin...   \n",
      "2  Computer vision is an interdisciplinary field ...   \n",
      "3  Natural Language Processing (NLP) encompasses ...   \n",
      "4  Machine learning is a subset of artificial int...   \n",
      "5  Reinforcement learning is a type of machine le...   \n",
      "\n",
      "                                  Vector-Heavy Top 3  \n",
      "0  Large Language Models (LLMs) like GPT-4 and Cl...  \n",
      "1  Backpropagation is a key algorithm for trainin...  \n",
      "2  Computer vision is an interdisciplinary field ...  \n",
      "3  Natural Language Processing (NLP) encompasses ...  \n",
      "4  Machine learning is a subset of artificial int...  \n",
      "5  Reinforcement learning is a type of machine le...  \n"
     ]
    }
   ],
   "source": [
    "# Compare retriever performance across different query types\n",
    "# Function to compare retrievers\n",
    "def compare_retrievers(retrievers, queries):\n",
    "    \"\"\"Compare multiple retrievers across different query types.\"\"\"\n",
    "    results = []\n",
    "\n",
    "    for query in queries:\n",
    "        query_bundle = QueryBundle(query)\n",
    "        query_result = {\"Query\": query}\n",
    "\n",
    "        # Get top 3 results from each retriever\n",
    "        for name, retriever in retrievers.items():\n",
    "            retrieved = retriever.retrieve(query_bundle)\n",
    "            # Get first sentence of each result for compact display\n",
    "            texts = [node.node.text.split(\n",
    "                '.')[0] for node in retrieved[:]]\n",
    "            query_result[f\"{name} Top 3\"] = \" | \".join(texts)\n",
    "\n",
    "        results.append(query_result)\n",
    "\n",
    "    return pd.DataFrame(results)\n",
    "\n",
    "\n",
    "# Create dictionary of all retrievers to compare\n",
    "all_retrievers = {\n",
    "    \"BM25\": retrievers_dict[\"BM25\"],\n",
    "    \"Vector\": retrievers_dict[\"Vector\"],\n",
    "    \"Fusion\": hybrid_retriever,\n",
    "    \"BM25-Heavy\": bm25_heavy,\n",
    "    \"Vector-Heavy\": vector_heavy\n",
    "}\n",
    "\n",
    "# Test with a variety of queries\n",
    "test_queries = [\n",
    "    \"CV libs\",\n",
    "    \"neural networks backpropagation\",\n",
    "    \"how do computers understand images?\",\n",
    "    \"natural language processing\",\n",
    "    \"machine learning applications\",\n",
    "    \"reinforcement learning in games\"\n",
    "]\n",
    "\n",
    "# Compare retrievers\n",
    "comparison = compare_retrievers(all_retrievers, test_queries)\n",
    "\n",
    "# Print comparison\n",
    "print(\"\\nRetriever Comparison Across Query Types:\")\n",
    "print(comparison)"
   ]
  },
  {
   "cell_type": "markdown",
   "metadata": {},
   "source": [
    "# Practical tips for implementing hybrid retrievers:\n",
    "\n",
    "1. Choosing weights: Start with equal weights and adjust based on the query types you see in your application. If users frequently use keywords, increase BM25 weight; if they ask natural language questions, favor vector search.\n",
    "\n",
    "2. Performance considerations: The fusion approach requires running both retrievers, which can be more expensive. In production, consider:\n",
    "\n",
    "    - Running retrievers in parallel\n",
    "    - Using a faster first-stage retriever (typically BM25) to filter candidates\n",
    "    - Caching results for common queries\n",
    "\n",
    "3. Beyond simple weighting: More sophisticated approaches include:\n",
    "\n",
    "    - Using machine learning to learn optimal weights\n",
    "    - Adjusting weights dynamically based on query type\n",
    "    - Implementing reciprocal rank fusion, which considers result positions\n",
    "\n",
    "4. Evaluation: Always evaluate your hybrid approach on a diverse set of queries to ensure it's performing better than either method alone.\""
   ]
  },
  {
   "cell_type": "markdown",
   "metadata": {},
   "source": []
  }
 ],
 "metadata": {
  "kernelspec": {
   "display_name": ".venv",
   "language": "python",
   "name": "python3"
  },
  "language_info": {
   "codemirror_mode": {
    "name": "ipython",
    "version": 3
   },
   "file_extension": ".py",
   "mimetype": "text/x-python",
   "name": "python",
   "nbconvert_exporter": "python",
   "pygments_lexer": "ipython3",
   "version": "3.12.9"
  }
 },
 "nbformat": 4,
 "nbformat_minor": 2
}
