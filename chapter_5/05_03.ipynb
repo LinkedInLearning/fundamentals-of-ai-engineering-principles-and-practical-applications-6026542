{
 "cells": [
  {
   "cell_type": "markdown",
   "metadata": {},
   "source": [
    "# ChromaDB: Persistence and Performance\n",
    "\n",
    "This notebook demonstrates two key aspects of working with ChromaDB vector databases:\n",
    "1. Setting up persistent storage\n",
    "2. Performance considerations for production use\n",
    "\n",
    "## Why Data Persistence Matters\n",
    "\n",
    "- **Business Continuity**: Ensures your data survives system restarts\n",
    "- **Cost Effectiveness**: Avoid recomputing embeddings\n",
    "- **Horizontal Scaling**: Enables distributed architectures"
   ]
  },
  {
   "cell_type": "code",
   "execution_count": 1,
   "metadata": {},
   "outputs": [
    {
     "name": "stdout",
     "output_type": "stream",
     "text": [
      "\n",
      "=== PERSISTENT STORAGE ===\n",
      "Creating a persistent Chroma client...\n"
     ]
    }
   ],
   "source": [
    "# Import required libraries\n",
    "import chromadb\n",
    "from chromadb.utils import embedding_functions\n",
    "import time\n",
    "import numpy as np\n",
    "\n",
    "print(\"\\n=== PERSISTENT STORAGE ===\")\n",
    "# Initialize a persistent client that stores data on disk\n",
    "print(\"Creating a persistent Chroma client...\")\n",
    "client = chromadb.PersistentClient(path=\"../scratch/chroma_db\")\n",
    "\n",
    "# Create an embedding function using the SentenceTransformer model\n",
    "embedding_function = embedding_functions.SentenceTransformerEmbeddingFunction(\n",
    "    model_name=\"all-MiniLM-L6-v2\"\n",
    ")"
   ]
  },
  {
   "cell_type": "code",
   "execution_count": 2,
   "metadata": {},
   "outputs": [],
   "source": [
    "# Helper function to display query results in a readable format\n",
    "def display_results(results):\n",
    "    print(\"\\nResults:\")\n",
    "    for i, (doc, doc_id, metadata, distance) in enumerate(zip(\n",
    "        results['documents'][0],\n",
    "        results['ids'][0],\n",
    "        results['metadatas'][0],\n",
    "        results['distances'][0]\n",
    "    )):\n",
    "        print(f\"{i+1}. Document: {doc}\")\n",
    "        print(f\"   ID: {doc_id}\")\n",
    "        print(f\"   Metadata: {metadata}\")\n",
    "        print(f\"   Distance: {distance}\")\n",
    "        print()"
   ]
  },
  {
   "cell_type": "markdown",
   "metadata": {},
   "source": [
    "## Creating and Using a Persistent Collection\n",
    "\n",
    "Below we create a persistent collection and add sample documents to demonstrate basic operations."
   ]
  },
  {
   "cell_type": "code",
   "execution_count": 3,
   "metadata": {},
   "outputs": [
    {
     "name": "stdout",
     "output_type": "stream",
     "text": [
      "Creating a persistent collection...\n",
      "\n",
      "Results:\n",
      "1. Document: This is a document that will be stored persistently\n",
      "   ID: pdoc1\n",
      "   Metadata: None\n",
      "   Distance: 0.7845402441433474\n",
      "\n"
     ]
    }
   ],
   "source": [
    "# Create a new collection with our embedding function\n",
    "print(\"Creating a persistent collection...\")\n",
    "persistent_collection = client.create_collection(\n",
    "    name=\"persistent_docs\",\n",
    "    embedding_function=embedding_function\n",
    ")\n",
    "\n",
    "# Sample documents about data persistence\n",
    "documents = [\n",
    "    \"This is a document that will be stored persistently\",\n",
    "    \"Vector databases need to persist data for production use\",\n",
    "    \"Data persistence ensures your embeddings survive restarts\"\n",
    "]\n",
    "\n",
    "# Add documents with unique IDs\n",
    "ids = [\"pdoc1\", \"pdoc2\", \"pdoc3\"]\n",
    "persistent_collection.add(\n",
    "    documents=documents,\n",
    "    ids=ids\n",
    ")\n",
    "\n",
    "# Query the collection to verify it works\n",
    "results = persistent_collection.query(\n",
    "    query_texts=[\"persistent data storage\"],\n",
    "    n_results=1\n",
    ")\n",
    "\n",
    "display_results(results)"
   ]
  },
  {
   "cell_type": "markdown",
   "metadata": {},
   "source": [
    "## Why Performance Matters\n",
    "\n",
    "When working with vector databases in production, performance becomes critical for several reasons:\n",
    "\n",
    "- **User Experience**: Slow query responses lead to poor user experiences\n",
    "- **Resource Utilization**: Inefficient operations consume excessive computational resources\n",
    "- **Scaling Challenges**: Performance problems compound as your data grows\n",
    "- **Cost Implications**: In cloud environments, inefficient operations directly impact costs\n",
    "\n",
    "Below we'll conduct a simple performance test with a larger dataset."
   ]
  },
  {
   "cell_type": "code",
   "execution_count": 4,
   "metadata": {},
   "outputs": [
    {
     "name": "stdout",
     "output_type": "stream",
     "text": [
      "\n",
      "=== PERFORMANCE CONSIDERATIONS ===\n",
      "Generating synthetic documents for performance testing...\n",
      "Adding 1000 documents to collection...\n",
      "Time to add 1000 documents: 4.47 seconds\n",
      "\n",
      "Testing query performance...\n",
      "Query 1: 0.0145 seconds\n",
      "Query 2: 0.0128 seconds\n",
      "Query 3: 0.0125 seconds\n",
      "Query 4: 0.0132 seconds\n",
      "Query 5: 0.0164 seconds\n",
      "Average query time: 0.0139 seconds\n"
     ]
    }
   ],
   "source": [
    "print(\"\\n=== PERFORMANCE CONSIDERATIONS ===\")\n",
    "\n",
    "# Create a separate collection for performance testing\n",
    "collection = client.create_collection(\n",
    "    name=\"performance_test\",\n",
    "    embedding_function=embedding_function\n",
    ")\n",
    "\n",
    "# Generate 1000 synthetic documents using random combinations of AI-related words\n",
    "print(\"Generating synthetic documents for performance testing...\")\n",
    "words = [\"AI\", \"machine\", \"learning\", \"vector\", \"database\", \"embedding\", \"neural\",\n",
    "         \"network\", \"transformer\", \"data\", \"science\", \"engineering\", \"model\",\n",
    "         \"algorithm\", \"optimization\", \"natural\", \"language\", \"processing\"]\n",
    "\n",
    "num_docs = 1000\n",
    "documents = []\n",
    "\n",
    "for i in range(num_docs):\n",
    "    # Create a random document of 10-20 words\n",
    "    doc_len = np.random.randint(10, 20)\n",
    "    doc = \" \".join(np.random.choice(words, size=doc_len))\n",
    "    documents.append(doc)\n",
    "\n",
    "ids = [f\"perf_doc_{i}\" for i in range(num_docs)]\n",
    "\n",
    "# Measure time to add documents in batches\n",
    "print(f\"Adding {num_docs} documents to collection...\")\n",
    "start_time = time.time()\n",
    "\n",
    "# Process in batches of 100 for better performance\n",
    "batch_size = 100\n",
    "for i in range(0, num_docs, batch_size):\n",
    "    end_idx = min(i + batch_size, num_docs)\n",
    "    collection.add(\n",
    "        documents=documents[i:end_idx],\n",
    "        ids=ids[i:end_idx]\n",
    "    )\n",
    "\n",
    "add_time = time.time() - start_time\n",
    "print(f\"Time to add {num_docs} documents: {add_time:.2f} seconds\")\n",
    "\n",
    "# Measure query performance across multiple queries\n",
    "print(\"\\nTesting query performance...\")\n",
    "query_times = []\n",
    "num_queries = 5\n",
    "\n",
    "for i in range(num_queries):\n",
    "    # Generate a random 5-word query\n",
    "    query = \" \".join(np.random.choice(words, size=5))\n",
    "    start_time = time.time()\n",
    "    collection.query(\n",
    "        query_texts=[query],\n",
    "        n_results=10\n",
    "    )\n",
    "    query_time = time.time() - start_time\n",
    "    query_times.append(query_time)\n",
    "    print(f\"Query {i+1}: {query_time:.4f} seconds\")\n",
    "\n",
    "print(f\"Average query time: {np.mean(query_times):.4f} seconds\")"
   ]
  },
  {
   "cell_type": "markdown",
   "metadata": {},
   "source": [
    "## Key Takeaways\n",
    "\n",
    "1. **Persistence**: ChromaDB's PersistentClient provides an easy way to store vector embeddings on disk\n",
    "2. **Performance**: \n",
    "   - Batch processing improves throughput when adding documents\n",
    "   - Query performance remains fast even with 1000 documents (~13ms)\n",
    "   - Consider monitoring performance as your collection size grows\n",
    "3. **Production Readiness**:\n",
    "   - Use persistent storage in production environments\n",
    "   - Implement proper error handling\n",
    "   - Consider scaling strategies for larger datasets"
   ]
  },
  {
   "cell_type": "code",
   "execution_count": null,
   "metadata": {},
   "outputs": [],
   "source": []
  }
 ],
 "metadata": {
  "kernelspec": {
   "display_name": ".venv",
   "language": "python",
   "name": "python3"
  },
  "language_info": {
   "codemirror_mode": {
    "name": "ipython",
    "version": 3
   },
   "file_extension": ".py",
   "mimetype": "text/x-python",
   "name": "python",
   "nbconvert_exporter": "python",
   "pygments_lexer": "ipython3",
   "version": "3.12.9"
  }
 },
 "nbformat": 4,
 "nbformat_minor": 2
}
