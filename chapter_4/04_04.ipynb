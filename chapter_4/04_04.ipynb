{
 "cells": [
  {
   "cell_type": "markdown",
   "metadata": {},
   "source": [
    "# Efficient Embeddings Generation\n",
    "\n",
    "## Overview\n",
    "\n",
    "This notebook demonstrates techniques for efficiently generating embeddings at scale through:\n",
    "\n",
    "1. **Batching**: Processing multiple inputs together rather than one at a time\n",
    "2. **Caching**: Storing previously generated embeddings to avoid regeneration\n",
    "\n",
    "These optimization strategies can significantly improve performance in production systems that rely on embeddings for natural language processing tasks."
   ]
  },
  {
   "cell_type": "markdown",
   "metadata": {},
   "source": [
    "## Setup\n",
    "\n",
    "First, let's install the required packages:"
   ]
  },
  {
   "cell_type": "code",
   "execution_count": 1,
   "metadata": {},
   "outputs": [
    {
     "name": "stdout",
     "output_type": "stream",
     "text": [
      "\u001b[2mUsing Python 3.12.9 environment at: /workspaces/fundamentals-of-ai-engineering-principles-and-practical-applications-6026542/.venv\u001b[0m\n",
      "\u001b[2mAudited \u001b[1m2 packages\u001b[0m \u001b[2min 8ms\u001b[0m\u001b[0m\n"
     ]
    }
   ],
   "source": [
    "# Install the required packages (only run this once)\n",
    "!uv pip install accelerate==1.6.0 sentence-transformers==4.0.2"
   ]
  },
  {
   "cell_type": "markdown",
   "metadata": {},
   "source": [
    "Now, let's import the necessary libraries and set up our environment:"
   ]
  },
  {
   "cell_type": "code",
   "execution_count": 2,
   "metadata": {},
   "outputs": [
    {
     "name": "stdout",
     "output_type": "stream",
     "text": [
      "Created 1000 example sentences\n"
     ]
    }
   ],
   "source": [
    "from sentence_transformers import SentenceTransformer\n",
    "import time\n",
    "import numpy as np\n",
    "import matplotlib.pyplot as plt\n",
    "from tqdm.auto import tqdm\n",
    "import hashlib\n",
    "from functools import lru_cache\n",
    "import pandas as pd\n",
    "\n",
    "# Load model - using a lightweight model suitable for demonstration\n",
    "model_name = 'all-MiniLM-L6-v2'\n",
    "model = SentenceTransformer(model_name)\n",
    "\n",
    "# Generate example sentences for benchmarking\n",
    "sentences = [\n",
    "    f\"This is a sample sentence for benchmarking embeddings generation {i}.\"\n",
    "    for i in range(1000)\n",
    "]\n",
    "\n",
    "print(f\"Created {len(sentences)} example sentences\")"
   ]
  },
  {
   "cell_type": "markdown",
   "metadata": {},
   "source": [
    "## Impact of Batch Size on Performance\n",
    "\n",
    "Batching is a crucial optimization technique. Instead of processing each input one by one, we process multiple inputs together. This maximizes computational efficiency, especially with GPU acceleration. Let's analyze how different batch sizes affect:\n",
    "\n",
    "- **Throughput**: How many embeddings we can generate per second\n",
    "- **Latency**: How much time each batch takes to process"
   ]
  },
  {
   "cell_type": "code",
   "execution_count": 3,
   "metadata": {},
   "outputs": [
    {
     "name": "stdout",
     "output_type": "stream",
     "text": [
      "Measuring impact of batch size on throughput and latency...\n"
     ]
    },
    {
     "data": {
      "application/vnd.jupyter.widget-view+json": {
       "model_id": "70d07993482f4424a3a0e5eb7d6544b1",
       "version_major": 2,
       "version_minor": 0
      },
      "text/plain": [
       "  0%|          | 0/8 [00:00<?, ?it/s]"
      ]
     },
     "metadata": {},
     "output_type": "display_data"
    },
    {
     "name": "stdout",
     "output_type": "stream",
     "text": [
      "   Batch Size  Total Time (s)  Throughput (samples/s)  Avg Batch Latency (s)\n",
      "0           1       11.095434               90.127164               0.011095\n",
      "1           4        4.771030              209.598349               0.019084\n",
      "2           8        3.577166              279.550919               0.028617\n",
      "3          16        3.012807              331.916342               0.048205\n",
      "4          32        3.004729              332.808739               0.096151\n",
      "5          64        2.879524              347.279592               0.184290\n",
      "6         128        2.906728              344.029463               0.372061\n",
      "7         256        2.878667              347.382965               0.736939\n"
     ]
    }
   ],
   "source": [
    "# Measure impact of batch size on throughput and latency\n",
    "batch_sizes = [1, 4, 8, 16, 32, 64, 128, 256]\n",
    "results = []\n",
    "\n",
    "print(\"Measuring impact of batch size on throughput and latency...\")\n",
    "\n",
    "for batch_size in tqdm(batch_sizes):\n",
    "    start_time = time.time()\n",
    "\n",
    "    # Process data in batches\n",
    "    embeddings = []\n",
    "    for i in range(0, len(sentences), batch_size):\n",
    "        batch = sentences[i:i+batch_size]\n",
    "        batch_embeddings = model.encode(batch)\n",
    "        embeddings.extend(batch_embeddings)\n",
    "\n",
    "    # Calculate metrics\n",
    "    total_time = time.time() - start_time\n",
    "    throughput = len(sentences) / total_time\n",
    "    avg_latency = total_time / (len(sentences) / batch_size)\n",
    "\n",
    "    results.append({\n",
    "        'Batch Size': batch_size,\n",
    "        'Total Time (s)': total_time,\n",
    "        'Throughput (samples/s)': throughput,\n",
    "        'Avg Batch Latency (s)': avg_latency\n",
    "    })\n",
    "\n",
    "# Convert to DataFrame\n",
    "df = pd.DataFrame(results)\n",
    "print(df)"
   ]
  },
  {
   "cell_type": "markdown",
   "metadata": {},
   "source": [
    "Let's visualize the relationship between batch size and performance:"
   ]
  },
  {
   "cell_type": "code",
   "execution_count": 4,
   "metadata": {},
   "outputs": [
    {
     "data": {
      "image/png": "[encoded data removed]",
      "text/plain": [
       "<Figure size 1500x600 with 2 Axes>"
      ]
     },
     "metadata": {},
     "output_type": "display_data"
    }
   ],
   "source": [
    "# Visualize the results\n",
    "plt.figure(figsize=(15, 6))\n",
    "\n",
    "plt.subplot(1, 2, 1)\n",
    "plt.plot(df['Batch Size'], df['Throughput (samples/s)'], 'o-', linewidth=2)\n",
    "plt.xlabel('Batch Size')\n",
    "plt.ylabel('Throughput (samples/s)')\n",
    "plt.title('Batch Size vs Throughput')\n",
    "plt.grid(True)\n",
    "\n",
    "plt.subplot(1, 2, 2)\n",
    "plt.plot(df['Batch Size'], df['Avg Batch Latency (s)'], 'o-', linewidth=2)\n",
    "plt.xlabel('Batch Size')\n",
    "plt.ylabel('Average Batch Latency (s)')\n",
    "plt.title('Batch Size vs Latency')\n",
    "plt.grid(True)\n",
    "\n",
    "plt.tight_layout()\n",
    "plt.show()"
   ]
  },
  {
   "cell_type": "markdown",
   "metadata": {},
   "source": [
    "### Key Observations:\n",
    "\n",
    "1. **Throughput Increases with Batch Size**: As we increase the batch size, we can generate more embeddings per second up to a certain point.\n",
    "\n",
    "2. **Diminishing Returns**: Beyond a certain batch size (usually around 32-64), the throughput gains tend to plateau or even decrease due to memory limitations.\n",
    "\n",
    "3. **Latency Trade-off**: While larger batches improve throughput, they increase the average time to process each batch, which may be important for real-time applications.\n",
    "\n",
    "4. **Batch Size Selection**: The optimal batch size depends on your specific requirements:\n",
    "   - For real-time applications: Smaller batches (lower latency)\n",
    "   - For bulk processing jobs: Larger batches (higher throughput)"
   ]
  },
  {
   "cell_type": "markdown",
   "metadata": {},
   "source": [
    "## Implementing Embedding Caches\n",
    "\n",
    "In many real-world applications, we often encounter the same text multiple times. Caching the embeddings can avoid redundant computation and significantly improve performance."
   ]
  },
  {
   "cell_type": "markdown",
   "metadata": {},
   "source": [
    "### Simple Dictionary-Based Cache"
   ]
  },
  {
   "cell_type": "code",
   "execution_count": 5,
   "metadata": {},
   "outputs": [],
   "source": [
    "class SimpleEmbeddingCache:\n",
    "    def __init__(self, model):\n",
    "        self.model = model\n",
    "        self.cache = {}  # Dictionary that maps text to embeddings\n",
    "        self.hits = 0    # Counter for cache hits\n",
    "        self.misses = 0  # Counter for cache misses\n",
    "\n",
    "    def _get_hash(self, text):\n",
    "        \"\"\"Generate a stable hash for a text string\"\"\"\n",
    "        return hashlib.md5(text.encode('utf-8')).hexdigest()\n",
    "\n",
    "    def encode(self, texts, batch_size=32):\n",
    "        \"\"\"Encode texts using cache when available\"\"\"\n",
    "        results = []\n",
    "        texts_to_encode = []\n",
    "        text_indices = []\n",
    "\n",
    "        # Check cache for each text\n",
    "        for i, text in enumerate(texts):\n",
    "            text_hash = self._get_hash(text)\n",
    "            if text_hash in self.cache:\n",
    "                results.append((i, self.cache[text_hash]))\n",
    "                self.hits += 1\n",
    "            else:\n",
    "                texts_to_encode.append(text)\n",
    "                text_indices.append(i)\n",
    "                self.misses += 1\n",
    "\n",
    "        # Generate embeddings for cache misses\n",
    "        if texts_to_encode:\n",
    "            # Process in batches\n",
    "            new_embeddings = []\n",
    "            for i in range(0, len(texts_to_encode), batch_size):\n",
    "                batch = texts_to_encode[i:i+batch_size]\n",
    "                batch_embeddings = model.encode(batch)\n",
    "                new_embeddings.extend(batch_embeddings)\n",
    "\n",
    "            # Update cache with new embeddings\n",
    "            for i, text in enumerate(texts_to_encode):\n",
    "                text_hash = self._get_hash(text)\n",
    "                self.cache[text_hash] = new_embeddings[i]\n",
    "                results.append((text_indices[i], new_embeddings[i]))\n",
    "\n",
    "        # Sort by original index and extract embeddings\n",
    "        results.sort(key=lambda x: x[0])\n",
    "        return np.array([emb for _, emb in results])\n",
    "\n",
    "    def get_stats(self):\n",
    "        \"\"\"Return cache performance statistics\"\"\"\n",
    "        total = self.hits + self.misses\n",
    "        hit_rate = self.hits / total if total > 0 else 0\n",
    "        return {\n",
    "            \"hits\": self.hits,\n",
    "            \"misses\": self.misses,\n",
    "            \"total\": total,\n",
    "            \"hit_rate\": hit_rate\n",
    "        }"
   ]
  },
  {
   "cell_type": "markdown",
   "metadata": {},
   "source": [
    "### LRU Cache-Based Implementation\n",
    "\n",
    "Python's built-in `functools.lru_cache` provides a convenient way to implement a Least Recently Used (LRU) cache, which automatically evicts the least recently used items when the cache reaches its size limit."
   ]
  },
  {
   "cell_type": "code",
   "execution_count": 6,
   "metadata": {},
   "outputs": [],
   "source": [
    "@lru_cache(maxsize=1024)\n",
    "def hash_text(text):\n",
    "    return hashlib.md5(text.encode('utf-8')).hexdigest()\n",
    "\n",
    "class LRUEmbeddingCache:\n",
    "    def __init__(self, model, maxsize=1024):\n",
    "        self.model = model\n",
    "        self.encode_single = lru_cache(maxsize=maxsize)(self._encode_single)\n",
    "        self.hits = 0\n",
    "        self.misses = 0\n",
    "        self.hash_to_text = {}\n",
    "\n",
    "    def _encode_single(self, text_hash):\n",
    "        \"\"\"Generate embedding for a single text (identified by hash)\"\"\"\n",
    "        self.misses += 1\n",
    "        # Convert hash back to the original text\n",
    "        text = self.hash_to_text[text_hash]\n",
    "        return self.model.encode([text])[0]  # Note: we're encoding a single text\n",
    "\n",
    "    def encode(self, texts, batch_size=32):\n",
    "        \"\"\"Encode texts using LRU cache when available\"\"\"\n",
    "        self.hash_to_text = {}\n",
    "        results = []\n",
    "\n",
    "        for text in texts:\n",
    "            # Use the hash as the cache key\n",
    "            text_hash = hash_text(text)\n",
    "            self.hash_to_text[text_hash] = text\n",
    "\n",
    "            # Check if it's in the cache\n",
    "            cache_info_before = self.encode_single.cache_info()\n",
    "            embedding = self.encode_single(text_hash)\n",
    "            cache_info_after = self.encode_single.cache_info()\n",
    "            \n",
    "            # Update hit/miss counters\n",
    "            if cache_info_after.hits > cache_info_before.hits:\n",
    "                self.hits += 1\n",
    "                \n",
    "            results.append(embedding)\n",
    "\n",
    "        return np.array(results)\n",
    "\n",
    "    def get_stats(self):\n",
    "        \"\"\"Return cache performance statistics\"\"\"\n",
    "        total = self.hits + self.misses\n",
    "        hit_rate = self.hits / total if total > 0 else 0\n",
    "        return {\n",
    "            \"hits\": self.hits,\n",
    "            \"misses\": self.misses,\n",
    "            \"total\": total,\n",
    "            \"hit_rate\": hit_rate,\n",
    "            \"cache_info\": self.encode_single.cache_info()\n",
    "        }"
   ]
  },
  {
   "cell_type": "markdown",
   "metadata": {},
   "source": [
    "## Evaluating Cache Performance\n",
    "\n",
    "Let's compare the performance with and without caching:"
   ]
  },
  {
   "cell_type": "code",
   "execution_count": 7,
   "metadata": {},
   "outputs": [
    {
     "name": "stdout",
     "output_type": "stream",
     "text": [
      "\n",
      "Demonstrating caching benefits:\n",
      "Test data size: 500 sentences\n",
      "\n",
      "1. Without cache:\n",
      "Processing time: 1.4682s\n",
      "\n",
      "2. First run with cache:\n",
      "Processing time: 1.4120s\n",
      "Cache stats: 0 hits, 500 misses (0.0% hit rate)\n",
      "\n",
      "3. Second run with cache (should be all hits):\n",
      "Processing time: 0.0007s\n",
      "Cache stats: 500 hits, 0 misses (100.0% hit rate)\n",
      "\n",
      "Performance summary:\n",
      "- Without cache: 1.4682s\n",
      "- First run with cache: 1.4120s\n",
      "- Second run with cache: 0.0007s\n",
      "- Speed improvement: 2018.3x faster with cache\n"
     ]
    }
   ],
   "source": [
    "# Create a test dataset with some repetition to demonstrate cache benefits\n",
    "print(\"\\nDemonstrating caching benefits:\")\n",
    "test_data = []\n",
    "for i in range(500):\n",
    "    # Every 5th sentence is repeated from the first 100 sentences\n",
    "    test_data.append(sentences[i % 100] if i % 5 == 0 else sentences[i])\n",
    "print(f\"Test data size: {len(test_data)} sentences\")\n",
    "\n",
    "# Benchmark 1: Without cache\n",
    "print(\"\\n1. Without cache:\")\n",
    "start = time.time()\n",
    "embeddings_no_cache = model.encode(test_data, batch_size=32)\n",
    "no_cache_time = time.time() - start\n",
    "print(f\"Processing time: {no_cache_time:.4f}s\")\n",
    "\n",
    "# Benchmark 2: First run with cache (should be all misses)\n",
    "print(\"\\n2. First run with cache:\")\n",
    "cache = SimpleEmbeddingCache(model)\n",
    "start = time.time()\n",
    "embeddings_with_cache = cache.encode(test_data, batch_size=32)\n",
    "first_run_time = time.time() - start\n",
    "print(f\"Processing time: {first_run_time:.4f}s\")\n",
    "print(\n",
    "    f\"Cache stats: {cache.hits} hits, {cache.misses} misses ({cache.hits/len(test_data)*100:.1f}% hit rate)\")\n",
    "\n",
    "# Benchmark 3: Second run with fresh cache object but reusing the populated cache dictionary\n",
    "print(\"\\n3. Second run with cache (should be all hits):\")\n",
    "# Create a new cache instance but reuse the cache dictionary from the first run\n",
    "second_cache = SimpleEmbeddingCache(model)\n",
    "second_cache.cache = cache.cache  # Copy the populated cache from first run\n",
    "start = time.time()\n",
    "embeddings_with_cache = second_cache.encode(test_data, batch_size=32)\n",
    "second_run_time = time.time() - start\n",
    "print(f\"Processing time: {second_run_time:.4f}s\")\n",
    "print(f\"Cache stats: {second_cache.hits} hits, {second_cache.misses} misses ({second_cache.hits/len(test_data)*100:.1f}% hit rate)\")\n",
    "\n",
    "# Performance summary\n",
    "print(\"\\nPerformance summary:\")\n",
    "print(f\"- Without cache: {no_cache_time:.4f}s\")\n",
    "print(f\"- First run with cache: {first_run_time:.4f}s\")\n",
    "print(f\"- Second run with cache: {second_run_time:.4f}s\")\n",
    "print(\n",
    "    f\"- Speed improvement: {no_cache_time/second_run_time:.1f}x faster with cache\")"
   ]
  },
  {
   "cell_type": "markdown",
   "metadata": {},
   "source": [
    "## Conclusion\n",
    "\n",
    "Efficient embedding generation is critical for building performant AI applications. \n",
    "\n",
    "By implementing batching and caching strategies, you can significantly improve throughput and reduce latency, especially in production environments with repetitive content or high-volume processing needs.\n",
    "\n",
    "The specific optimization strategy depends on your application's requirements:\n",
    "- **Latency-sensitive applications**: Focus on smaller batch sizes and efficient caching\n",
    "- **High-throughput batch processing**: Use larger batch sizes and persistent caches\n",
    "- **Mixed workloads**: Implement adaptive strategies with priority queues\n"
   ]
  }
 ],
 "metadata": {
  "kernelspec": {
   "display_name": ".venv",
   "language": "python",
   "name": "python3"
  },
  "language_info": {
   "codemirror_mode": {
    "name": "ipython",
    "version": 3
   },
   "file_extension": ".py",
   "mimetype": "text/x-python",
   "name": "python",
   "nbconvert_exporter": "python",
   "pygments_lexer": "ipython3",
   "version": "3.12.9"
  }
 },
 "nbformat": 4,
 "nbformat_minor": 4
}
