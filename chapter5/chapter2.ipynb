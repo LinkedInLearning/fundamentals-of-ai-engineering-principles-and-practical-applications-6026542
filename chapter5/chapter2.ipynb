{
 "cells": [
  {
   "cell_type": "code",
   "execution_count": null,
   "metadata": {},
   "outputs": [],
   "source": [
    "# Install necessary dependencies\n",
    "%pip install chromadb sentence-transformers"
   ]
  },
  {
   "cell_type": "code",
   "execution_count": 1,
   "metadata": {},
   "outputs": [],
   "source": [
    "import chromadb\n",
    "from chromadb.utils import embedding_functions"
   ]
  },
  {
   "cell_type": "code",
   "execution_count": 2,
   "metadata": {},
   "outputs": [
    {
     "name": "stdout",
     "output_type": "stream",
     "text": [
      "Initializing Chroma client...\n"
     ]
    }
   ],
   "source": [
    "# Basic client initialization\n",
    "\"\"\"Initialize a basic in-memory Chroma client\"\"\"\n",
    "print(\"Initializing Chroma client...\")\n",
    "client = chromadb.Client()\n",
    "\n",
    "# Create embedding function\n",
    "embedding_function = embedding_functions.SentenceTransformerEmbeddingFunction(\n",
    "    model_name=\"all-MiniLM-L6-v2\"\n",
    ")"
   ]
  },
  {
   "cell_type": "code",
   "execution_count": 3,
   "metadata": {},
   "outputs": [],
   "source": [
    "# Create new collection\n",
    "collection = client.create_collection(\n",
    "    name=\"documents\",\n",
    "    embedding_function=embedding_function\n",
    ")"
   ]
  },
  {
   "cell_type": "code",
   "execution_count": 4,
   "metadata": {},
   "outputs": [],
   "source": [
    "# Display results helper\n",
    "def display_results(results):\n",
    "  print(\"\\nResults:\")\n",
    "  for i, (doc, doc_id, metadata, distance) in enumerate(zip(\n",
    "      results['documents'][0],\n",
    "      results['ids'][0],\n",
    "      results['metadatas'][0],\n",
    "      results['distances'][0]\n",
    "  )):\n",
    "      print(f\"{i+1}. Document: {doc}\")\n",
    "      print(f\"   ID: {doc_id}\")\n",
    "      print(f\"   Metadata: {metadata}\")\n",
    "      print(f\"   Distance: {distance}\")\n",
    "      print()"
   ]
  },
  {
   "cell_type": "code",
   "execution_count": 5,
   "metadata": {},
   "outputs": [
    {
     "name": "stdout",
     "output_type": "stream",
     "text": [
      "\n",
      "=== BASIC VECTOR OPERATIONS ===\n",
      "Adding documents to collection...\n",
      "Collection now contains 8 documents\n",
      "\n",
      "Performing similarity search for: 'AI and technology trends'\n",
      "\n",
      "Results:\n",
      "1. Document: Artificial intelligence is transforming the technology landscape\n",
      "   ID: doc4\n",
      "   Metadata: None\n",
      "   Distance: 0.6472851634025574\n",
      "\n",
      "2. Document: Machine learning algorithms find patterns in data\n",
      "   ID: doc8\n",
      "   Metadata: None\n",
      "   Distance: 1.364165186882019\n",
      "\n",
      "3. Document: Deep learning models require substantial computational resources\n",
      "   ID: doc6\n",
      "   Metadata: None\n",
      "   Distance: 1.4002103805541992\n",
      "\n"
     ]
    }
   ],
   "source": [
    "# Demo 1: Basic Vector Operations\n",
    "print(\"\\n=== BASIC VECTOR OPERATIONS ===\")\n",
    "\n",
    "# Some example documents\n",
    "documents = [\n",
    "    \"The quick brown fox jumps over the lazy dog\",\n",
    "    \"A man is walking his dog in the park\",\n",
    "    \"The weather is sunny and warm today\",\n",
    "    \"Artificial intelligence is transforming the technology landscape\",\n",
    "    \"Vector databases are essential for semantic search applications\",\n",
    "    \"Deep learning models require substantial computational resources\",\n",
    "    \"The city skyline looks beautiful at sunset\",\n",
    "    \"Machine learning algorithms find patterns in data\"\n",
    "]\n",
    "ids = [\"doc1\", \"doc2\", \"doc3\", \"doc4\", \"doc5\", \"doc6\", \"doc7\", \"doc8\"]\n",
    "\n",
    "# Add these documents to collection\n",
    "print(\"Adding documents to collection...\")\n",
    "collection.add(\n",
    "    documents=documents,\n",
    "    ids=ids\n",
    ")\n",
    "\n",
    "# Get collection count\n",
    "count = collection.count()\n",
    "print(f\"Collection now contains {count} documents\")\n",
    "\n",
    "# Query the collection\n",
    "query_text = \"AI and technology trends\"\n",
    "print(f\"\\nPerforming similarity search for: '{query_text}'\")\n",
    "\n",
    "results = collection.query(\n",
    "    query_texts=[query_text],\n",
    "    n_results=3\n",
    ")\n",
    "\n",
    "# Display results\n",
    "display_results(results)"
   ]
  },
  {
   "cell_type": "code",
   "execution_count": 6,
   "metadata": {},
   "outputs": [
    {
     "name": "stdout",
     "output_type": "stream",
     "text": [
      "\n",
      "=== METADATA AND FILTERING ===\n",
      "Adding documents with metadata...\n",
      "Filtered Docs Collection now contains 8 documents.\n"
     ]
    }
   ],
   "source": [
    "print(\"\\n=== METADATA AND FILTERING ===\")\n",
    "filtered_docs_collection = client.create_collection(\n",
    "            name=\"filtered_documents\",\n",
    "            embedding_function=embedding_function\n",
    "            )\n",
    "\n",
    "metadatas = [\n",
    "    {\"category\": \"animal\", \"length\": \"short\", \"year\": 2021},\n",
    "    {\"category\": \"lifestyle\", \"length\": \"short\", \"year\": 2022},\n",
    "    {\"category\": \"weather\", \"length\": \"short\", \"year\": 2023},\n",
    "    {\"category\": \"technology\", \"length\": \"medium\", \"year\": 2023},\n",
    "    {\"category\": \"technology\", \"length\": \"medium\", \"year\": 2024},\n",
    "    {\"category\": \"technology\", \"length\": \"long\", \"year\": 2024},\n",
    "    {\"category\": \"travel\", \"length\": \"short\", \"year\": 2023},\n",
    "    {\"category\": \"technology\", \"length\": \"medium\", \"year\": 2024}\n",
    "]\n",
    "\n",
    "# Add documents with metadata\n",
    "print(\"Adding documents with metadata...\")\n",
    "filtered_docs_collection.add(\n",
    "    documents=documents,\n",
    "    ids=ids,\n",
    "    metadatas=metadatas\n",
    ")\n",
    "\n",
    "# Get collection count\n",
    "count = filtered_docs_collection.count()\n",
    "print(f\"Filtered Docs Collection now contains {count} documents.\")"
   ]
  },
  {
   "cell_type": "code",
   "execution_count": 7,
   "metadata": {},
   "outputs": [
    {
     "name": "stdout",
     "output_type": "stream",
     "text": [
      "\n",
      "Filtering by category 'technology':\n",
      "\n",
      "Results:\n",
      "1. Document: Artificial intelligence is transforming the technology landscape\n",
      "   ID: doc4\n",
      "   Metadata: {'category': 'technology', 'length': 'medium', 'year': 2023}\n",
      "   Distance: 0.8660715818405151\n",
      "\n",
      "2. Document: Machine learning algorithms find patterns in data\n",
      "   ID: doc8\n",
      "   Metadata: {'category': 'technology', 'length': 'medium', 'year': 2024}\n",
      "   Distance: 1.3540159463882446\n",
      "\n",
      "3. Document: Deep learning models require substantial computational resources\n",
      "   ID: doc6\n",
      "   Metadata: {'category': 'technology', 'length': 'long', 'year': 2024}\n",
      "   Distance: 1.3604629039764404\n",
      "\n"
     ]
    }
   ],
   "source": [
    "# Simple metadata filtering\n",
    "print(\"\\nFiltering by category 'technology':\")\n",
    "results = filtered_docs_collection.query(\n",
    "    query_texts=[\"AI advancements\"],\n",
    "    n_results=3,\n",
    "    where={\"category\": \"technology\"}\n",
    ")\n",
    "\n",
    "# Display results\n",
    "display_results(results)"
   ]
  },
  {
   "cell_type": "code",
   "execution_count": 7,
   "metadata": {},
   "outputs": [
    {
     "name": "stdout",
     "output_type": "stream",
     "text": [
      "\n",
      "Complex filtering (technology documents from 2024):\n",
      "\n",
      "Results:\n",
      "1. Document: Machine learning algorithms find patterns in data\n",
      "   ID: doc8\n",
      "   Metadata: {'category': 'technology', 'length': 'medium', 'year': 2024}\n",
      "   Distance: 1.3540159463882446\n",
      "\n",
      "2. Document: Deep learning models require substantial computational resources\n",
      "   ID: doc6\n",
      "   Metadata: {'category': 'technology', 'length': 'long', 'year': 2024}\n",
      "   Distance: 1.3604629039764404\n",
      "\n",
      "3. Document: Vector databases are essential for semantic search applications\n",
      "   ID: doc5\n",
      "   Metadata: {'category': 'technology', 'length': 'medium', 'year': 2024}\n",
      "   Distance: 1.5392829179763794\n",
      "\n"
     ]
    }
   ],
   "source": [
    "# Complex filtering\n",
    "print(\"\\nComplex filtering (technology documents from 2024):\")\n",
    "results = filtered_docs_collection.query(\n",
    "    query_texts=[\"AI advancements\"],\n",
    "    n_results=3,\n",
    "    where={\"$and\": [\n",
    "        {\"category\": {\"$eq\": \"technology\"}},\n",
    "        {\"year\": {\"$eq\": 2024}}\n",
    "    ]}\n",
    ")\n",
    "\n",
    "display_results(results)"
   ]
  },
  {
   "cell_type": "code",
   "execution_count": 9,
   "metadata": {},
   "outputs": [
    {
     "name": "stdout",
     "output_type": "stream",
     "text": [
      "\n",
      "Filtering documents containing 'Artificial intelligence ':\n",
      "\n",
      "Results:\n",
      "1. Document: Artificial intelligence is transforming the technology landscape\n",
      "   ID: doc4\n",
      "   Metadata: {'category': 'technology', 'length': 'medium', 'year': 2023}\n",
      "   Distance: 0.8660715818405151\n",
      "\n"
     ]
    }
   ],
   "source": [
    "# Using where_document\n",
    "print(\"\\nFiltering documents containing 'Artificial intelligence ':\")\n",
    "results = filtered_docs_collection.query(\n",
    "    query_texts=[\"AI advancements\"],\n",
    "    n_results=3,\n",
    "    where_document={\"$contains\": \"Artificial intelligence\"}\n",
    ")\n",
    "display_results(results)"
   ]
  }
 ],
 "metadata": {
  "kernelspec": {
   "display_name": "Python 3",
   "language": "python",
   "name": "python3"
  },
  "language_info": {
   "codemirror_mode": {
    "name": "ipython",
    "version": 3
   },
   "file_extension": ".py",
   "mimetype": "text/x-python",
   "name": "python",
   "nbconvert_exporter": "python",
   "pygments_lexer": "ipython3",
   "version": "3.12.9"
  }
 },
 "nbformat": 4,
 "nbformat_minor": 2
}
