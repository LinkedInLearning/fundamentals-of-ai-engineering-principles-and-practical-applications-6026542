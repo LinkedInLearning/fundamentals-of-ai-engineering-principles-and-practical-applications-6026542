{
 "cells": [
  {
   "cell_type": "markdown",
   "metadata": {},
   "source": [
    "# Data Pesistence\n",
    "\n",
    "- Ensures business continuity\n",
    "- Cost Effective\n",
    "- Allows for Horizontal Scaling"
   ]
  },
  {
   "cell_type": "code",
   "execution_count": 1,
   "metadata": {},
   "outputs": [
    {
     "name": "stdout",
     "output_type": "stream",
     "text": [
      "\n",
      "=== PERSISTENT STORAGE ===\n",
      "Creating a persistent Chroma client...\n"
     ]
    }
   ],
   "source": [
    "import chromadb\n",
    "from chromadb.utils import embedding_functions\n",
    "import time\n",
    "import numpy as np\n",
    "\n",
    "print(\"\\n=== PERSISTENT STORAGE ===\")\n",
    "# Initialize a persistent client\n",
    "print(\"Creating a persistent Chroma client...\")\n",
    "client = chromadb.PersistentClient(path=\"../scratch/chroma_db\")\n",
    "\n",
    "# Create embedding function\n",
    "embedding_function = embedding_functions.SentenceTransformerEmbeddingFunction(\n",
    "    model_name=\"all-MiniLM-L6-v2\"\n",
    ")"
   ]
  },
  {
   "cell_type": "code",
   "execution_count": 2,
   "metadata": {},
   "outputs": [],
   "source": [
    "# Display results helper\n",
    "def display_results(results):\n",
    "  print(\"\\nResults:\")\n",
    "  for i, (doc, doc_id, metadata, distance) in enumerate(zip(\n",
    "      results['documents'][0],\n",
    "      results['ids'][0],\n",
    "      results['metadatas'][0],\n",
    "      results['distances'][0]\n",
    "  )):\n",
    "      print(f\"{i+1}. Document: {doc}\")\n",
    "      print(f\"   ID: {doc_id}\")\n",
    "      print(f\"   Metadata: {metadata}\")\n",
    "      print(f\"   Distance: {distance}\")\n",
    "      print()"
   ]
  },
  {
   "cell_type": "code",
   "execution_count": 3,
   "metadata": {},
   "outputs": [
    {
     "name": "stdout",
     "output_type": "stream",
     "text": [
      "Creating a persistent collection...\n",
      "\n",
      "Results:\n",
      "1. Document: This is a document that will be stored persistently\n",
      "   ID: pdoc1\n",
      "   Metadata: None\n",
      "   Distance: 0.7845402441433474\n",
      "\n"
     ]
    }
   ],
   "source": [
    "# Create a new collection\n",
    "print(\"Creating a persistent collection...\")\n",
    "persistent_collection = client.create_collection(\n",
    "  name=\"persistent_docs\",\n",
    "  embedding_function=embedding_function\n",
    ")\n",
    "\n",
    "# Add some documents\n",
    "documents = [\n",
    "  \"This is a document that will be stored persistently\",\n",
    "  \"Vector databases need to persist data for production use\",\n",
    "  \"Data persistence ensures your embeddings survive restarts\"\n",
    "]\n",
    "\n",
    "ids = [\"pdoc1\", \"pdoc2\", \"pdoc3\"]\n",
    "persistent_collection.add(\n",
    "      documents=documents,\n",
    "      ids=ids\n",
    "  )\n",
    "\n",
    "  # Show that we can query the persistent collection\n",
    "results = persistent_collection.query(\n",
    "    query_texts=[\"persistent data storage\"],\n",
    "    n_results=1\n",
    ")\n",
    "\n",
    "display_results(results)"
   ]
  },
  {
   "cell_type": "markdown",
   "metadata": {},
   "source": [
    "# Why Performance Matters\n",
    "\n",
    "- User Experience: Slow query responses lead to poor user experiences in search applications\n",
    "- Resource Utilization: Inefficient operations can consume excessive computational resources\n",
    "- Scaling Challenges: Performance problems compound as your data grows\n",
    "- Cost Implications: In cloud environments, inefficient operations directly impact your operating costs\n"
   ]
  },
  {
   "cell_type": "code",
   "execution_count": 4,
   "metadata": {},
   "outputs": [
    {
     "name": "stdout",
     "output_type": "stream",
     "text": [
      "\n",
      "=== PERFORMANCE CONSIDERATIONS ===\n",
      "Generating synthetic documents for performance testing...\n",
      "Adding 1000 documents to collection...\n",
      "Time to add 1000 documents: 4.58 seconds\n",
      "\n",
      "Testing query performance...\n",
      "Query 1: 0.0177 seconds\n",
      "Query 2: 0.0162 seconds\n",
      "Query 3: 0.0133 seconds\n",
      "Query 4: 0.0130 seconds\n",
      "Query 5: 0.0131 seconds\n",
      "Average query time: 0.0147 seconds\n"
     ]
    }
   ],
   "source": [
    "print(\"\\n=== PERFORMANCE CONSIDERATIONS ===\")\n",
    "\n",
    "# Create a larger collection for performance testing\n",
    "collection = client.create_collection(\n",
    "            name=\"performance_test\",\n",
    "            embedding_function=embedding_function)\n",
    "\n",
    "# Generate synthetic documents\n",
    "print(\"Generating synthetic documents for performance testing...\")\n",
    "words = [\"AI\", \"machine\", \"learning\", \"vector\", \"database\", \"embedding\", \"neural\",\n",
    "          \"network\", \"transformer\", \"data\", \"science\", \"engineering\", \"model\",\n",
    "          \"algorithm\", \"optimization\", \"natural\", \"language\", \"processing\"]\n",
    "\n",
    "num_docs = 1000\n",
    "documents = []\n",
    "\n",
    "for i in range(num_docs):\n",
    "    # Create a random document of 10-20 words\n",
    "    doc_len = np.random.randint(10, 20)\n",
    "    doc = \" \".join(np.random.choice(words, size=doc_len))\n",
    "    documents.append(doc)\n",
    "\n",
    "ids = [f\"perf_doc_{i}\" for i in range(num_docs)]\n",
    "\n",
    "# Time the addition of documents\n",
    "print(f\"Adding {num_docs} documents to collection...\")\n",
    "start_time = time.time()\n",
    "\n",
    "# Add in batches\n",
    "batch_size = 100\n",
    "for i in range(0, num_docs, batch_size):\n",
    "    end_idx = min(i + batch_size, num_docs)\n",
    "    collection.add(\n",
    "        documents=documents[i:end_idx],\n",
    "        ids=ids[i:end_idx]\n",
    "    )\n",
    "\n",
    "add_time = time.time() - start_time\n",
    "print(f\"Time to add {num_docs} documents: {add_time:.2f} seconds\")\n",
    "\n",
    "# Time query performance\n",
    "print(\"\\nTesting query performance...\")\n",
    "query_times = []\n",
    "num_queries = 5\n",
    "\n",
    "for i in range(num_queries):\n",
    "    query = \" \".join(np.random.choice(words, size=5))\n",
    "    start_time = time.time()\n",
    "    collection.query(\n",
    "        query_texts=[query],\n",
    "        n_results=10\n",
    "    )\n",
    "    query_time = time.time() - start_time\n",
    "    query_times.append(query_time)\n",
    "    print(f\"Query {i+1}: {query_time:.4f} seconds\")\n",
    "\n",
    "print(f\"Average query time: {np.mean(query_times):.4f} seconds\")\n"
   ]
  },
  {
   "cell_type": "code",
   "execution_count": null,
   "metadata": {},
   "outputs": [],
   "source": []
  }
 ],
 "metadata": {
  "kernelspec": {
   "display_name": "Python 3",
   "language": "python",
   "name": "python3"
  },
  "language_info": {
   "codemirror_mode": {
    "name": "ipython",
    "version": 3
   },
   "file_extension": ".py",
   "mimetype": "text/x-python",
   "name": "python",
   "nbconvert_exporter": "python",
   "pygments_lexer": "ipython3",
   "version": "3.12.9"
  }
 },
 "nbformat": 4,
 "nbformat_minor": 2
}
